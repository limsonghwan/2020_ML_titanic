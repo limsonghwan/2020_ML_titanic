{
  "nbformat": 4,
  "nbformat_minor": 0,
  "metadata": {
    "colab": {
      "name": "[ML]kaggle_titanic_shit.ipynb",
      "provenance": [],
      "collapsed_sections": [],
      "toc_visible": true,
      "mount_file_id": "1fuHb9JEj7GnLV7M09mEyk2-lStx2TIbS",
      "authorship_tag": "ABX9TyNlmkCJOzZl2eqSnpMU7XGB",
      "include_colab_link": true
    },
    "kernelspec": {
      "name": "python3",
      "display_name": "Python 3"
    }
  },
  "cells": [
    {
      "cell_type": "markdown",
      "metadata": {
        "id": "view-in-github",
        "colab_type": "text"
      },
      "source": [
        "<a href=\"https://colab.research.google.com/github/limsonghwan/2020_ML_titanic/blob/master/%5BML%5Dkaggle_titanic_shit.ipynb\" target=\"_parent\"><img src=\"https://colab.research.google.com/assets/colab-badge.svg\" alt=\"Open In Colab\"/></a>"
      ]
    },
    {
      "cell_type": "markdown",
      "metadata": {
        "id": "EXNfbcIlpKCO",
        "colab_type": "text"
      },
      "source": [
        "# Kaggle Titanic Challenge\n",
        "## 탑승자의 생존 여부를 예측해보자!\n",
        "본 챌린지는 동일하게 주어진 데이터 셋을 이용하여 탑승자의 생존여부를 예측하는 챌린지이다.  \n",
        ".  \n",
        ".  \n",
        "시작하기 전에 항상 동일한 결과를 위해 random seed를 지정해준다. 값은 생일을 이용한다.\n"
      ]
    },
    {
      "cell_type": "code",
      "metadata": {
        "id": "NKEZ-JTW5ijB",
        "colab_type": "code",
        "colab": {}
      },
      "source": [
        "import random\n",
        "random.seed(822)"
      ],
      "execution_count": 163,
      "outputs": []
    },
    {
      "cell_type": "markdown",
      "metadata": {
        "id": "Q-NijRutqwQA",
        "colab_type": "text"
      },
      "source": [
        "# 1. 데이터 받아오기\n",
        "kagggle에서 챌린지 진행에 필요한 데이터를 받아온다.  \n",
        "본 데이터를 kaggle의 api를 이용하여 받아올 수도 있지만, 직접 csv파일을 다운로드 받아 이용하였다.  \n",
        ".  \n",
        "먼저 pandas를 이용하여 train과 test data frame을 만든다.\n"
      ]
    },
    {
      "cell_type": "code",
      "metadata": {
        "id": "OJ62IX2OSSyX",
        "colab_type": "code",
        "colab": {
          "base_uri": "https://localhost:8080/",
          "height": 210
        },
        "outputId": "e2771a44-10d1-49fc-94d3-20ec6ef7f652"
      },
      "source": [
        "pip install kaggle --upgrade"
      ],
      "execution_count": 164,
      "outputs": [
        {
          "output_type": "stream",
          "text": [
            "Requirement already up-to-date: kaggle in /usr/local/lib/python3.6/dist-packages (1.5.6)\n",
            "Requirement already satisfied, skipping upgrade: python-slugify in /usr/local/lib/python3.6/dist-packages (from kaggle) (4.0.0)\n",
            "Requirement already satisfied, skipping upgrade: six>=1.10 in /usr/local/lib/python3.6/dist-packages (from kaggle) (1.12.0)\n",
            "Requirement already satisfied, skipping upgrade: certifi in /usr/local/lib/python3.6/dist-packages (from kaggle) (2020.6.20)\n",
            "Requirement already satisfied, skipping upgrade: python-dateutil in /usr/local/lib/python3.6/dist-packages (from kaggle) (2.8.1)\n",
            "Requirement already satisfied, skipping upgrade: urllib3<1.25,>=1.21.1 in /usr/local/lib/python3.6/dist-packages (from kaggle) (1.24.3)\n",
            "Requirement already satisfied, skipping upgrade: requests in /usr/local/lib/python3.6/dist-packages (from kaggle) (2.23.0)\n",
            "Requirement already satisfied, skipping upgrade: tqdm in /usr/local/lib/python3.6/dist-packages (from kaggle) (4.41.1)\n",
            "Requirement already satisfied, skipping upgrade: text-unidecode>=1.3 in /usr/local/lib/python3.6/dist-packages (from python-slugify->kaggle) (1.3)\n",
            "Requirement already satisfied, skipping upgrade: idna<3,>=2.5 in /usr/local/lib/python3.6/dist-packages (from requests->kaggle) (2.9)\n",
            "Requirement already satisfied, skipping upgrade: chardet<4,>=3.0.2 in /usr/local/lib/python3.6/dist-packages (from requests->kaggle) (3.0.4)\n"
          ],
          "name": "stdout"
        }
      ]
    },
    {
      "cell_type": "code",
      "metadata": {
        "id": "G7vRxdtrpDcT",
        "colab_type": "code",
        "colab": {}
      },
      "source": [
        "import pandas as pd\n",
        "\n",
        "train = pd.read_csv('/content/drive/My Drive/ML/train.csv')\n",
        "test = pd.read_csv('/content/drive/My Drive/ML/test.csv')"
      ],
      "execution_count": 165,
      "outputs": []
    },
    {
      "cell_type": "markdown",
      "metadata": {
        "id": "GV0CtKdYt1rY",
        "colab_type": "text"
      },
      "source": [
        "# 2. 데이터 확인하기\n"
      ]
    },
    {
      "cell_type": "markdown",
      "metadata": {
        "id": "U5TT4rVfwOzt",
        "colab_type": "text"
      },
      "source": [
        "## 2-1 데이터 구조 파악\n",
        "head() 메소드를 통해 데이터를 확인해 보았다.  "
      ]
    },
    {
      "cell_type": "code",
      "metadata": {
        "id": "PLg9EyVrs2Ew",
        "colab_type": "code",
        "colab": {
          "base_uri": "https://localhost:8080/",
          "height": 706
        },
        "outputId": "aa4bfa65-f4cf-431e-9491-8fa8f34868e5"
      },
      "source": [
        "train.head(20)"
      ],
      "execution_count": 166,
      "outputs": [
        {
          "output_type": "execute_result",
          "data": {
            "text/html": [
              "<div>\n",
              "<style scoped>\n",
              "    .dataframe tbody tr th:only-of-type {\n",
              "        vertical-align: middle;\n",
              "    }\n",
              "\n",
              "    .dataframe tbody tr th {\n",
              "        vertical-align: top;\n",
              "    }\n",
              "\n",
              "    .dataframe thead th {\n",
              "        text-align: right;\n",
              "    }\n",
              "</style>\n",
              "<table border=\"1\" class=\"dataframe\">\n",
              "  <thead>\n",
              "    <tr style=\"text-align: right;\">\n",
              "      <th></th>\n",
              "      <th>PassengerId</th>\n",
              "      <th>Survived</th>\n",
              "      <th>Pclass</th>\n",
              "      <th>Name</th>\n",
              "      <th>Sex</th>\n",
              "      <th>Age</th>\n",
              "      <th>SibSp</th>\n",
              "      <th>Parch</th>\n",
              "      <th>Ticket</th>\n",
              "      <th>Fare</th>\n",
              "      <th>Cabin</th>\n",
              "      <th>Embarked</th>\n",
              "    </tr>\n",
              "  </thead>\n",
              "  <tbody>\n",
              "    <tr>\n",
              "      <th>0</th>\n",
              "      <td>1</td>\n",
              "      <td>0</td>\n",
              "      <td>3</td>\n",
              "      <td>Braund, Mr. Owen Harris</td>\n",
              "      <td>male</td>\n",
              "      <td>22.0</td>\n",
              "      <td>1</td>\n",
              "      <td>0</td>\n",
              "      <td>A/5 21171</td>\n",
              "      <td>7.2500</td>\n",
              "      <td>NaN</td>\n",
              "      <td>S</td>\n",
              "    </tr>\n",
              "    <tr>\n",
              "      <th>1</th>\n",
              "      <td>2</td>\n",
              "      <td>1</td>\n",
              "      <td>1</td>\n",
              "      <td>Cumings, Mrs. John Bradley (Florence Briggs Th...</td>\n",
              "      <td>female</td>\n",
              "      <td>38.0</td>\n",
              "      <td>1</td>\n",
              "      <td>0</td>\n",
              "      <td>PC 17599</td>\n",
              "      <td>71.2833</td>\n",
              "      <td>C85</td>\n",
              "      <td>C</td>\n",
              "    </tr>\n",
              "    <tr>\n",
              "      <th>2</th>\n",
              "      <td>3</td>\n",
              "      <td>1</td>\n",
              "      <td>3</td>\n",
              "      <td>Heikkinen, Miss. Laina</td>\n",
              "      <td>female</td>\n",
              "      <td>26.0</td>\n",
              "      <td>0</td>\n",
              "      <td>0</td>\n",
              "      <td>STON/O2. 3101282</td>\n",
              "      <td>7.9250</td>\n",
              "      <td>NaN</td>\n",
              "      <td>S</td>\n",
              "    </tr>\n",
              "    <tr>\n",
              "      <th>3</th>\n",
              "      <td>4</td>\n",
              "      <td>1</td>\n",
              "      <td>1</td>\n",
              "      <td>Futrelle, Mrs. Jacques Heath (Lily May Peel)</td>\n",
              "      <td>female</td>\n",
              "      <td>35.0</td>\n",
              "      <td>1</td>\n",
              "      <td>0</td>\n",
              "      <td>113803</td>\n",
              "      <td>53.1000</td>\n",
              "      <td>C123</td>\n",
              "      <td>S</td>\n",
              "    </tr>\n",
              "    <tr>\n",
              "      <th>4</th>\n",
              "      <td>5</td>\n",
              "      <td>0</td>\n",
              "      <td>3</td>\n",
              "      <td>Allen, Mr. William Henry</td>\n",
              "      <td>male</td>\n",
              "      <td>35.0</td>\n",
              "      <td>0</td>\n",
              "      <td>0</td>\n",
              "      <td>373450</td>\n",
              "      <td>8.0500</td>\n",
              "      <td>NaN</td>\n",
              "      <td>S</td>\n",
              "    </tr>\n",
              "    <tr>\n",
              "      <th>5</th>\n",
              "      <td>6</td>\n",
              "      <td>0</td>\n",
              "      <td>3</td>\n",
              "      <td>Moran, Mr. James</td>\n",
              "      <td>male</td>\n",
              "      <td>NaN</td>\n",
              "      <td>0</td>\n",
              "      <td>0</td>\n",
              "      <td>330877</td>\n",
              "      <td>8.4583</td>\n",
              "      <td>NaN</td>\n",
              "      <td>Q</td>\n",
              "    </tr>\n",
              "    <tr>\n",
              "      <th>6</th>\n",
              "      <td>7</td>\n",
              "      <td>0</td>\n",
              "      <td>1</td>\n",
              "      <td>McCarthy, Mr. Timothy J</td>\n",
              "      <td>male</td>\n",
              "      <td>54.0</td>\n",
              "      <td>0</td>\n",
              "      <td>0</td>\n",
              "      <td>17463</td>\n",
              "      <td>51.8625</td>\n",
              "      <td>E46</td>\n",
              "      <td>S</td>\n",
              "    </tr>\n",
              "    <tr>\n",
              "      <th>7</th>\n",
              "      <td>8</td>\n",
              "      <td>0</td>\n",
              "      <td>3</td>\n",
              "      <td>Palsson, Master. Gosta Leonard</td>\n",
              "      <td>male</td>\n",
              "      <td>2.0</td>\n",
              "      <td>3</td>\n",
              "      <td>1</td>\n",
              "      <td>349909</td>\n",
              "      <td>21.0750</td>\n",
              "      <td>NaN</td>\n",
              "      <td>S</td>\n",
              "    </tr>\n",
              "    <tr>\n",
              "      <th>8</th>\n",
              "      <td>9</td>\n",
              "      <td>1</td>\n",
              "      <td>3</td>\n",
              "      <td>Johnson, Mrs. Oscar W (Elisabeth Vilhelmina Berg)</td>\n",
              "      <td>female</td>\n",
              "      <td>27.0</td>\n",
              "      <td>0</td>\n",
              "      <td>2</td>\n",
              "      <td>347742</td>\n",
              "      <td>11.1333</td>\n",
              "      <td>NaN</td>\n",
              "      <td>S</td>\n",
              "    </tr>\n",
              "    <tr>\n",
              "      <th>9</th>\n",
              "      <td>10</td>\n",
              "      <td>1</td>\n",
              "      <td>2</td>\n",
              "      <td>Nasser, Mrs. Nicholas (Adele Achem)</td>\n",
              "      <td>female</td>\n",
              "      <td>14.0</td>\n",
              "      <td>1</td>\n",
              "      <td>0</td>\n",
              "      <td>237736</td>\n",
              "      <td>30.0708</td>\n",
              "      <td>NaN</td>\n",
              "      <td>C</td>\n",
              "    </tr>\n",
              "    <tr>\n",
              "      <th>10</th>\n",
              "      <td>11</td>\n",
              "      <td>1</td>\n",
              "      <td>3</td>\n",
              "      <td>Sandstrom, Miss. Marguerite Rut</td>\n",
              "      <td>female</td>\n",
              "      <td>4.0</td>\n",
              "      <td>1</td>\n",
              "      <td>1</td>\n",
              "      <td>PP 9549</td>\n",
              "      <td>16.7000</td>\n",
              "      <td>G6</td>\n",
              "      <td>S</td>\n",
              "    </tr>\n",
              "    <tr>\n",
              "      <th>11</th>\n",
              "      <td>12</td>\n",
              "      <td>1</td>\n",
              "      <td>1</td>\n",
              "      <td>Bonnell, Miss. Elizabeth</td>\n",
              "      <td>female</td>\n",
              "      <td>58.0</td>\n",
              "      <td>0</td>\n",
              "      <td>0</td>\n",
              "      <td>113783</td>\n",
              "      <td>26.5500</td>\n",
              "      <td>C103</td>\n",
              "      <td>S</td>\n",
              "    </tr>\n",
              "    <tr>\n",
              "      <th>12</th>\n",
              "      <td>13</td>\n",
              "      <td>0</td>\n",
              "      <td>3</td>\n",
              "      <td>Saundercock, Mr. William Henry</td>\n",
              "      <td>male</td>\n",
              "      <td>20.0</td>\n",
              "      <td>0</td>\n",
              "      <td>0</td>\n",
              "      <td>A/5. 2151</td>\n",
              "      <td>8.0500</td>\n",
              "      <td>NaN</td>\n",
              "      <td>S</td>\n",
              "    </tr>\n",
              "    <tr>\n",
              "      <th>13</th>\n",
              "      <td>14</td>\n",
              "      <td>0</td>\n",
              "      <td>3</td>\n",
              "      <td>Andersson, Mr. Anders Johan</td>\n",
              "      <td>male</td>\n",
              "      <td>39.0</td>\n",
              "      <td>1</td>\n",
              "      <td>5</td>\n",
              "      <td>347082</td>\n",
              "      <td>31.2750</td>\n",
              "      <td>NaN</td>\n",
              "      <td>S</td>\n",
              "    </tr>\n",
              "    <tr>\n",
              "      <th>14</th>\n",
              "      <td>15</td>\n",
              "      <td>0</td>\n",
              "      <td>3</td>\n",
              "      <td>Vestrom, Miss. Hulda Amanda Adolfina</td>\n",
              "      <td>female</td>\n",
              "      <td>14.0</td>\n",
              "      <td>0</td>\n",
              "      <td>0</td>\n",
              "      <td>350406</td>\n",
              "      <td>7.8542</td>\n",
              "      <td>NaN</td>\n",
              "      <td>S</td>\n",
              "    </tr>\n",
              "    <tr>\n",
              "      <th>15</th>\n",
              "      <td>16</td>\n",
              "      <td>1</td>\n",
              "      <td>2</td>\n",
              "      <td>Hewlett, Mrs. (Mary D Kingcome)</td>\n",
              "      <td>female</td>\n",
              "      <td>55.0</td>\n",
              "      <td>0</td>\n",
              "      <td>0</td>\n",
              "      <td>248706</td>\n",
              "      <td>16.0000</td>\n",
              "      <td>NaN</td>\n",
              "      <td>S</td>\n",
              "    </tr>\n",
              "    <tr>\n",
              "      <th>16</th>\n",
              "      <td>17</td>\n",
              "      <td>0</td>\n",
              "      <td>3</td>\n",
              "      <td>Rice, Master. Eugene</td>\n",
              "      <td>male</td>\n",
              "      <td>2.0</td>\n",
              "      <td>4</td>\n",
              "      <td>1</td>\n",
              "      <td>382652</td>\n",
              "      <td>29.1250</td>\n",
              "      <td>NaN</td>\n",
              "      <td>Q</td>\n",
              "    </tr>\n",
              "    <tr>\n",
              "      <th>17</th>\n",
              "      <td>18</td>\n",
              "      <td>1</td>\n",
              "      <td>2</td>\n",
              "      <td>Williams, Mr. Charles Eugene</td>\n",
              "      <td>male</td>\n",
              "      <td>NaN</td>\n",
              "      <td>0</td>\n",
              "      <td>0</td>\n",
              "      <td>244373</td>\n",
              "      <td>13.0000</td>\n",
              "      <td>NaN</td>\n",
              "      <td>S</td>\n",
              "    </tr>\n",
              "    <tr>\n",
              "      <th>18</th>\n",
              "      <td>19</td>\n",
              "      <td>0</td>\n",
              "      <td>3</td>\n",
              "      <td>Vander Planke, Mrs. Julius (Emelia Maria Vande...</td>\n",
              "      <td>female</td>\n",
              "      <td>31.0</td>\n",
              "      <td>1</td>\n",
              "      <td>0</td>\n",
              "      <td>345763</td>\n",
              "      <td>18.0000</td>\n",
              "      <td>NaN</td>\n",
              "      <td>S</td>\n",
              "    </tr>\n",
              "    <tr>\n",
              "      <th>19</th>\n",
              "      <td>20</td>\n",
              "      <td>1</td>\n",
              "      <td>3</td>\n",
              "      <td>Masselmani, Mrs. Fatima</td>\n",
              "      <td>female</td>\n",
              "      <td>NaN</td>\n",
              "      <td>0</td>\n",
              "      <td>0</td>\n",
              "      <td>2649</td>\n",
              "      <td>7.2250</td>\n",
              "      <td>NaN</td>\n",
              "      <td>C</td>\n",
              "    </tr>\n",
              "  </tbody>\n",
              "</table>\n",
              "</div>"
            ],
            "text/plain": [
              "    PassengerId  Survived  Pclass  ...     Fare Cabin  Embarked\n",
              "0             1         0       3  ...   7.2500   NaN         S\n",
              "1             2         1       1  ...  71.2833   C85         C\n",
              "2             3         1       3  ...   7.9250   NaN         S\n",
              "3             4         1       1  ...  53.1000  C123         S\n",
              "4             5         0       3  ...   8.0500   NaN         S\n",
              "5             6         0       3  ...   8.4583   NaN         Q\n",
              "6             7         0       1  ...  51.8625   E46         S\n",
              "7             8         0       3  ...  21.0750   NaN         S\n",
              "8             9         1       3  ...  11.1333   NaN         S\n",
              "9            10         1       2  ...  30.0708   NaN         C\n",
              "10           11         1       3  ...  16.7000    G6         S\n",
              "11           12         1       1  ...  26.5500  C103         S\n",
              "12           13         0       3  ...   8.0500   NaN         S\n",
              "13           14         0       3  ...  31.2750   NaN         S\n",
              "14           15         0       3  ...   7.8542   NaN         S\n",
              "15           16         1       2  ...  16.0000   NaN         S\n",
              "16           17         0       3  ...  29.1250   NaN         Q\n",
              "17           18         1       2  ...  13.0000   NaN         S\n",
              "18           19         0       3  ...  18.0000   NaN         S\n",
              "19           20         1       3  ...   7.2250   NaN         C\n",
              "\n",
              "[20 rows x 12 columns]"
            ]
          },
          "metadata": {
            "tags": []
          },
          "execution_count": 166
        }
      ]
    },
    {
      "cell_type": "markdown",
      "metadata": {
        "id": "GY_5F-nCs9Ic",
        "colab_type": "text"
      },
      "source": [
        "\n",
        "본 데이터는 \tPassengerId,\tSurvived,\tPclass,\tName,\tSex,\tAge,\tSibSp,\tParch,\tTicket,\tFare,\tCabin,\tEmbarked를 Feature로 갖는다.\n",
        "\n",
        "\n",
        "*   Survived: 0 = 아니오, 1 = 예\n",
        "*   pclass: 객실 클래스 / 1 = 1등석, 2 = 2등석, 3 = 3등석 \n",
        "*   Name : 탑승자 이름\n",
        "*   Sex : 탑승자 성별\n",
        "*   Age : 탑승자 나이\n",
        "*   pclass: 티켓 클래스 / 1 = 1위, 2 = 2위, 3 = 3위\n",
        "*   SibSp: 타이타닉호에 탑승한 형제/배우자 수\n",
        "*   parch: 타이타닉호에 승선한 부모/아이들의 수\n",
        "*   TIcket: 티켓 번호\n",
        "*   Fare : 여객운임\n",
        "*   Cabin: 객실 번호\n",
        "*   Embarked: 탑승 항만 / C = 체르부르, Q = 퀸스타운, S = 사우샘프턴\n",
        "\n",
        "Feature를 확인해보니 몇가지 Feature들은 예측에 큰 도움이 되지 않을것으로 예상된다.\n"
      ]
    },
    {
      "cell_type": "markdown",
      "metadata": {
        "id": "pz-XPAv6vv7w",
        "colab_type": "text"
      },
      "source": [
        "## 2-2 데이터 크기 파악\n",
        "train 데이터 셋과 test 데이터셋이 얼마나 많은 샘플을 가지고 있는지 shape을 이용하여 확인한다. "
      ]
    },
    {
      "cell_type": "code",
      "metadata": {
        "id": "kAGOP1GZvnpo",
        "colab_type": "code",
        "colab": {
          "base_uri": "https://localhost:8080/",
          "height": 34
        },
        "outputId": "41d3e8a8-6924-49a8-b054-8a4d4d809be4"
      },
      "source": [
        "train.shape"
      ],
      "execution_count": 167,
      "outputs": [
        {
          "output_type": "execute_result",
          "data": {
            "text/plain": [
              "(891, 12)"
            ]
          },
          "metadata": {
            "tags": []
          },
          "execution_count": 167
        }
      ]
    },
    {
      "cell_type": "code",
      "metadata": {
        "id": "wZ3iFrJQv_N6",
        "colab_type": "code",
        "colab": {
          "base_uri": "https://localhost:8080/",
          "height": 34
        },
        "outputId": "e683358f-f27d-435c-a4e4-d1a8a2342b77"
      },
      "source": [
        "test.shape"
      ],
      "execution_count": 168,
      "outputs": [
        {
          "output_type": "execute_result",
          "data": {
            "text/plain": [
              "(418, 11)"
            ]
          },
          "metadata": {
            "tags": []
          },
          "execution_count": 168
        }
      ]
    },
    {
      "cell_type": "code",
      "metadata": {
        "id": "IxLPrk3o6VrA",
        "colab_type": "code",
        "colab": {
          "base_uri": "https://localhost:8080/",
          "height": 351
        },
        "outputId": "3442222e-611a-4c0d-d46d-e586032c8adf"
      },
      "source": [
        "train.info()"
      ],
      "execution_count": 169,
      "outputs": [
        {
          "output_type": "stream",
          "text": [
            "<class 'pandas.core.frame.DataFrame'>\n",
            "RangeIndex: 891 entries, 0 to 890\n",
            "Data columns (total 12 columns):\n",
            " #   Column       Non-Null Count  Dtype  \n",
            "---  ------       --------------  -----  \n",
            " 0   PassengerId  891 non-null    int64  \n",
            " 1   Survived     891 non-null    int64  \n",
            " 2   Pclass       891 non-null    int64  \n",
            " 3   Name         891 non-null    object \n",
            " 4   Sex          891 non-null    object \n",
            " 5   Age          714 non-null    float64\n",
            " 6   SibSp        891 non-null    int64  \n",
            " 7   Parch        891 non-null    int64  \n",
            " 8   Ticket       891 non-null    object \n",
            " 9   Fare         891 non-null    float64\n",
            " 10  Cabin        204 non-null    object \n",
            " 11  Embarked     889 non-null    object \n",
            "dtypes: float64(2), int64(5), object(5)\n",
            "memory usage: 83.7+ KB\n"
          ],
          "name": "stdout"
        }
      ]
    },
    {
      "cell_type": "code",
      "metadata": {
        "id": "NajUGczg6dUP",
        "colab_type": "code",
        "colab": {
          "base_uri": "https://localhost:8080/",
          "height": 334
        },
        "outputId": "1d922fac-3c57-49f6-d2a3-f6d5a3879a8b"
      },
      "source": [
        "test.info()"
      ],
      "execution_count": 170,
      "outputs": [
        {
          "output_type": "stream",
          "text": [
            "<class 'pandas.core.frame.DataFrame'>\n",
            "RangeIndex: 418 entries, 0 to 417\n",
            "Data columns (total 11 columns):\n",
            " #   Column       Non-Null Count  Dtype  \n",
            "---  ------       --------------  -----  \n",
            " 0   PassengerId  418 non-null    int64  \n",
            " 1   Pclass       418 non-null    int64  \n",
            " 2   Name         418 non-null    object \n",
            " 3   Sex          418 non-null    object \n",
            " 4   Age          332 non-null    float64\n",
            " 5   SibSp        418 non-null    int64  \n",
            " 6   Parch        418 non-null    int64  \n",
            " 7   Ticket       418 non-null    object \n",
            " 8   Fare         417 non-null    float64\n",
            " 9   Cabin        91 non-null     object \n",
            " 10  Embarked     418 non-null    object \n",
            "dtypes: float64(2), int64(4), object(5)\n",
            "memory usage: 36.0+ KB\n"
          ],
          "name": "stdout"
        }
      ]
    },
    {
      "cell_type": "markdown",
      "metadata": {
        "id": "98kbuvP4wUzN",
        "colab_type": "text"
      },
      "source": [
        "## 2-3 Missing Value 확인하기\n",
        "info 메소드를 이용하여 데이터에 얼마나 많은 missing value가 있는지 확인한다."
      ]
    },
    {
      "cell_type": "code",
      "metadata": {
        "id": "RHa2a8eCwd5m",
        "colab_type": "code",
        "colab": {
          "base_uri": "https://localhost:8080/",
          "height": 246
        },
        "outputId": "2a9eb05b-7c10-4b0f-f85f-569f7b17e1ac"
      },
      "source": [
        "train.isnull().sum()"
      ],
      "execution_count": 171,
      "outputs": [
        {
          "output_type": "execute_result",
          "data": {
            "text/plain": [
              "PassengerId      0\n",
              "Survived         0\n",
              "Pclass           0\n",
              "Name             0\n",
              "Sex              0\n",
              "Age            177\n",
              "SibSp            0\n",
              "Parch            0\n",
              "Ticket           0\n",
              "Fare             0\n",
              "Cabin          687\n",
              "Embarked         2\n",
              "dtype: int64"
            ]
          },
          "metadata": {
            "tags": []
          },
          "execution_count": 171
        }
      ]
    },
    {
      "cell_type": "code",
      "metadata": {
        "id": "IA2YsmCswiOt",
        "colab_type": "code",
        "colab": {
          "base_uri": "https://localhost:8080/",
          "height": 228
        },
        "outputId": "4a52542d-292a-47c9-ce55-0f441670cbcd"
      },
      "source": [
        "test.isnull().sum()"
      ],
      "execution_count": 172,
      "outputs": [
        {
          "output_type": "execute_result",
          "data": {
            "text/plain": [
              "PassengerId      0\n",
              "Pclass           0\n",
              "Name             0\n",
              "Sex              0\n",
              "Age             86\n",
              "SibSp            0\n",
              "Parch            0\n",
              "Ticket           0\n",
              "Fare             1\n",
              "Cabin          327\n",
              "Embarked         0\n",
              "dtype: int64"
            ]
          },
          "metadata": {
            "tags": []
          },
          "execution_count": 172
        }
      ]
    },
    {
      "cell_type": "markdown",
      "metadata": {
        "id": "mQmFcw45w8g2",
        "colab_type": "text"
      },
      "source": [
        "\n",
        "\n",
        "missingno를 import하여 시각적으로 Missing Value를 표현하였다."
      ]
    },
    {
      "cell_type": "code",
      "metadata": {
        "id": "ZL1_rhjKxYLM",
        "colab_type": "code",
        "colab": {}
      },
      "source": [
        "import missingno as msno"
      ],
      "execution_count": 173,
      "outputs": []
    },
    {
      "cell_type": "code",
      "metadata": {
        "id": "2js3Zp4ixblb",
        "colab_type": "code",
        "colab": {
          "base_uri": "https://localhost:8080/",
          "height": 586
        },
        "outputId": "089d24d2-4c9a-4984-e30d-292b18751f2c"
      },
      "source": [
        "msno.matrix(df=train.iloc[:, :], figsize=(8, 8), color=(0, 0, 0))"
      ],
      "execution_count": 174,
      "outputs": [
        {
          "output_type": "execute_result",
          "data": {
            "text/plain": [
              "<matplotlib.axes._subplots.AxesSubplot at 0x7f4c807dc128>"
            ]
          },
          "metadata": {
            "tags": []
          },
          "execution_count": 174
        },
        {
          "output_type": "display_data",
          "data": {
            "image/png": "[encoded data removed]",
            "text/plain": [
              "<Figure size 576x576 with 2 Axes>"
            ]
          },
          "metadata": {
            "tags": []
          }
        }
      ]
    },
    {
      "cell_type": "markdown",
      "metadata": {
        "id": "jnF31OHgyvTl",
        "colab_type": "text"
      },
      "source": [
        "Age, Cabin의 데이터의 많은 Missing Value가 있는것을 확인할 수 있다.  \n",
        "학습 전 전처리 과정에서 해당 Missing Value에 대한 처리가 필요할 것으로 예상된다.  \n",
        "Age의 경우 비어있는 Value가 많지만 median이나 mean을 통해 채우면 활용할 수 있을것 같은 반면 Cabin의 경우 데이터가 없다시피 하는 수준으로 채운다고 하더라도 크게 의미있는 결과를 기대하긴 힘들어 보이므로 그냥 탈락 시키도록 한다."
      ]
    },
    {
      "cell_type": "markdown",
      "metadata": {
        "id": "x5Ip3F6m3van",
        "colab_type": "text"
      },
      "source": [
        "## 2-4 데이터 plot 해보기\n",
        "Pclass, Sex,\tAge,\tSibSp,\tParch,\tFare,\tEmbarked 데이터들의 히스토그램이나, 생존여부와의 관계를 파악해 전처리 시 참고하도록 한다.  \n",
        "\n"
      ]
    },
    {
      "cell_type": "markdown",
      "metadata": {
        "id": "PKVNrd2k7rmy",
        "colab_type": "text"
      },
      "source": [
        "### Pclass\n",
        "객실 등급은 생존에 영향을 주었을 것으로 예측된다.  \n",
        "pandas에 내장되어 있는 crosstab을 통해 쉽게 확인이 가능하다."
      ]
    },
    {
      "cell_type": "code",
      "metadata": {
        "id": "PVJ6_DYOx0Ht",
        "colab_type": "code",
        "colab": {
          "base_uri": "https://localhost:8080/",
          "height": 195
        },
        "outputId": "d17bafc6-1dc8-4c32-a238-5573b3eafd66"
      },
      "source": [
        "pd.crosstab(train['Pclass'], train['Survived'], margins=True)"
      ],
      "execution_count": 175,
      "outputs": [
        {
          "output_type": "execute_result",
          "data": {
            "text/html": [
              "<div>\n",
              "<style scoped>\n",
              "    .dataframe tbody tr th:only-of-type {\n",
              "        vertical-align: middle;\n",
              "    }\n",
              "\n",
              "    .dataframe tbody tr th {\n",
              "        vertical-align: top;\n",
              "    }\n",
              "\n",
              "    .dataframe thead th {\n",
              "        text-align: right;\n",
              "    }\n",
              "</style>\n",
              "<table border=\"1\" class=\"dataframe\">\n",
              "  <thead>\n",
              "    <tr style=\"text-align: right;\">\n",
              "      <th>Survived</th>\n",
              "      <th>0</th>\n",
              "      <th>1</th>\n",
              "      <th>All</th>\n",
              "    </tr>\n",
              "    <tr>\n",
              "      <th>Pclass</th>\n",
              "      <th></th>\n",
              "      <th></th>\n",
              "      <th></th>\n",
              "    </tr>\n",
              "  </thead>\n",
              "  <tbody>\n",
              "    <tr>\n",
              "      <th>1</th>\n",
              "      <td>80</td>\n",
              "      <td>136</td>\n",
              "      <td>216</td>\n",
              "    </tr>\n",
              "    <tr>\n",
              "      <th>2</th>\n",
              "      <td>97</td>\n",
              "      <td>87</td>\n",
              "      <td>184</td>\n",
              "    </tr>\n",
              "    <tr>\n",
              "      <th>3</th>\n",
              "      <td>372</td>\n",
              "      <td>119</td>\n",
              "      <td>491</td>\n",
              "    </tr>\n",
              "    <tr>\n",
              "      <th>All</th>\n",
              "      <td>549</td>\n",
              "      <td>342</td>\n",
              "      <td>891</td>\n",
              "    </tr>\n",
              "  </tbody>\n",
              "</table>\n",
              "</div>"
            ],
            "text/plain": [
              "Survived    0    1  All\n",
              "Pclass                 \n",
              "1          80  136  216\n",
              "2          97   87  184\n",
              "3         372  119  491\n",
              "All       549  342  891"
            ]
          },
          "metadata": {
            "tags": []
          },
          "execution_count": 175
        }
      ]
    },
    {
      "cell_type": "markdown",
      "metadata": {
        "id": "8TGkJ9A66_xz",
        "colab_type": "text"
      },
      "source": [
        "단순히 생존자의 수만을 보았을 때, 3등석 탑승객이 가장 많이 살아남았다. 그러나 비율상으로는 1등급 승객이 더 많이 살아남은 것으로 보인다.  \n",
        ".  \n",
        "\n",
        "숫자로 된 데이터이긴 하지만 원핫 인코딩 등의 처리가 필요할지도 모르겠다.  \n",
        "우선 데이터 그대로 한번 돌려보고 수정이 필요하다면 수정을 할 계획이다."
      ]
    },
    {
      "cell_type": "markdown",
      "metadata": {
        "id": "D6gvY8xU7uG8",
        "colab_type": "text"
      },
      "source": [
        "### Sex\n",
        "타이타닉등 재난영화를 보면 보통 남성보다는 여성이 대피의 우선순위이므로 생존율의 영향을 미쳤을것으로 생각된다. "
      ]
    },
    {
      "cell_type": "code",
      "metadata": {
        "id": "54tapUOO8e9O",
        "colab_type": "code",
        "colab": {
          "base_uri": "https://localhost:8080/",
          "height": 166
        },
        "outputId": "74491954-8326-4c69-a969-9df1fe8ef025"
      },
      "source": [
        "pd.crosstab(train['Sex'], train['Survived'], margins=True)"
      ],
      "execution_count": 176,
      "outputs": [
        {
          "output_type": "execute_result",
          "data": {
            "text/html": [
              "<div>\n",
              "<style scoped>\n",
              "    .dataframe tbody tr th:only-of-type {\n",
              "        vertical-align: middle;\n",
              "    }\n",
              "\n",
              "    .dataframe tbody tr th {\n",
              "        vertical-align: top;\n",
              "    }\n",
              "\n",
              "    .dataframe thead th {\n",
              "        text-align: right;\n",
              "    }\n",
              "</style>\n",
              "<table border=\"1\" class=\"dataframe\">\n",
              "  <thead>\n",
              "    <tr style=\"text-align: right;\">\n",
              "      <th>Survived</th>\n",
              "      <th>0</th>\n",
              "      <th>1</th>\n",
              "      <th>All</th>\n",
              "    </tr>\n",
              "    <tr>\n",
              "      <th>Sex</th>\n",
              "      <th></th>\n",
              "      <th></th>\n",
              "      <th></th>\n",
              "    </tr>\n",
              "  </thead>\n",
              "  <tbody>\n",
              "    <tr>\n",
              "      <th>female</th>\n",
              "      <td>81</td>\n",
              "      <td>233</td>\n",
              "      <td>314</td>\n",
              "    </tr>\n",
              "    <tr>\n",
              "      <th>male</th>\n",
              "      <td>468</td>\n",
              "      <td>109</td>\n",
              "      <td>577</td>\n",
              "    </tr>\n",
              "    <tr>\n",
              "      <th>All</th>\n",
              "      <td>549</td>\n",
              "      <td>342</td>\n",
              "      <td>891</td>\n",
              "    </tr>\n",
              "  </tbody>\n",
              "</table>\n",
              "</div>"
            ],
            "text/plain": [
              "Survived    0    1  All\n",
              "Sex                    \n",
              "female     81  233  314\n",
              "male      468  109  577\n",
              "All       549  342  891"
            ]
          },
          "metadata": {
            "tags": []
          },
          "execution_count": 176
        }
      ]
    },
    {
      "cell_type": "markdown",
      "metadata": {
        "id": "3UKHLJfhJeWV",
        "colab_type": "text"
      },
      "source": [
        "실제로 남성의 수가 더 많음에도 불구하고 생존자는 여성이 더 많은 것을 볼 수 있다.  \n",
        "데이터가 string으로 이루어져 있으므로 전처리를 통해 0,1로 바꿔줄 예정이다."
      ]
    },
    {
      "cell_type": "markdown",
      "metadata": {
        "id": "BLQ1jqNj9VR3",
        "colab_type": "text"
      },
      "source": [
        "### Age\n",
        "영화를 보면 노인과 아이도 대피의 우선순위이므로 나이도 영향을 미쳤을 것이다. 나이별 생존/사망 비율을 나타내었다.  \n",
        ".  \n",
        "깔끔한 plot을 위해 seaborn의 도움을 받아본다."
      ]
    },
    {
      "cell_type": "code",
      "metadata": {
        "id": "z3XXcetdAihf",
        "colab_type": "code",
        "colab": {
          "base_uri": "https://localhost:8080/",
          "height": 344
        },
        "outputId": "85fa13e8-737f-4e35-d892-37b20a466946"
      },
      "source": [
        "import seaborn as sns\n",
        "import matplotlib.pyplot as plt\n",
        "\n",
        "plt.style.use('seaborn')\n",
        "sns.set(font_scale=2.5)\n",
        "\n",
        "fig, ax = plt.subplots(1, 1, figsize=(9, 5))\n",
        "sns.kdeplot(train[train['Survived'] == 1]['Age'], ax=ax)\n",
        "sns.kdeplot(train[train['Survived'] == 0]['Age'], ax=ax)\n",
        "plt.legend(['Survived', 'Dead'])\n",
        "plt.show()"
      ],
      "execution_count": 177,
      "outputs": [
        {
          "output_type": "display_data",
          "data": {
            "image/png": "[encoded data removed]",
            "text/plain": [
              "<Figure size 648x360 with 1 Axes>"
            ]
          },
          "metadata": {
            "tags": []
          }
        }
      ]
    },
    {
      "cell_type": "markdown",
      "metadata": {
        "id": "myraGBuTUsQx",
        "colab_type": "text"
      },
      "source": [
        "plot한 분포도를 보면 20~30대가 탑승객의 주를 이루고 있으며 Survived와 Dead의 그래프가 얼추 겹치는걸 보면 의외로 살 확률이 반반 정도 된 것 같다. age가 생각보다 큰 importance를 가지지 않을 수 도 있을 것 같다."
      ]
    },
    {
      "cell_type": "markdown",
      "metadata": {
        "id": "k0yG9DvcEJvM",
        "colab_type": "text"
      },
      "source": [
        "### SibSp\n",
        "자주 접하지 못했던 Feature라 잘 모르겠으니 plot해 보도록 한다."
      ]
    },
    {
      "cell_type": "code",
      "metadata": {
        "id": "ZWNVuMoSEsSS",
        "colab_type": "code",
        "colab": {
          "base_uri": "https://localhost:8080/",
          "height": 694
        },
        "outputId": "d35e987f-7eb0-433c-fbab-3c0c2f26f806"
      },
      "source": [
        "f,ax=plt.subplots(1, 1, figsize=(40,10))\n",
        "sns.countplot('SibSp', data=train)\n",
        "\n",
        "train[['SibSp', 'Survived']].groupby(['SibSp'], as_index=True).mean().sort_values(by='SibSp', ascending=True).plot.bar()\n",
        "\n",
        "\n",
        "plt.subplots_adjust(wspace=0.2, hspace=0.5)\n",
        "plt.show()"
      ],
      "execution_count": 178,
      "outputs": [
        {
          "output_type": "display_data",
          "data": {
            "image/png": "[encoded data removed]",
            "text/plain": [
              "<Figure size 2880x720 with 1 Axes>"
            ]
          },
          "metadata": {
            "tags": []
          }
        },
        {
          "output_type": "display_data",
          "data": {
            "image/png": "[encoded data removed]",
            "text/plain": [
              "<Figure size 576x396 with 1 Axes>"
            ]
          },
          "metadata": {
            "tags": []
          }
        }
      ]
    },
    {
      "cell_type": "markdown",
      "metadata": {
        "id": "6hjbm9cYFs4o",
        "colab_type": "text"
      },
      "source": [
        "### Parch\n",
        "이것도 생소하다. 자세히 들여다 본다.\n"
      ]
    },
    {
      "cell_type": "code",
      "metadata": {
        "id": "l6OlI9jYF7eU",
        "colab_type": "code",
        "colab": {
          "base_uri": "https://localhost:8080/",
          "height": 694
        },
        "outputId": "4a02dd63-69a8-4dfe-dac3-9aa04565758f"
      },
      "source": [
        "f,ax=plt.subplots(1, 1, figsize=(40,10))\n",
        "sns.countplot('Parch', data=train)\n",
        "\n",
        "train[['Parch', 'Survived']].groupby(['Parch'], as_index=True).mean().sort_values(by='Parch', ascending=True).plot.bar()\n",
        "\n",
        "\n",
        "plt.subplots_adjust(wspace=0.2, hspace=0.5)\n",
        "plt.show()"
      ],
      "execution_count": 179,
      "outputs": [
        {
          "output_type": "display_data",
          "data": {
            "image/png": "[encoded data removed]",
            "text/plain": [
              "<Figure size 2880x720 with 1 Axes>"
            ]
          },
          "metadata": {
            "tags": []
          }
        },
        {
          "output_type": "display_data",
          "data": {
            "image/png": "[encoded data removed]",
            "text/plain": [
              "<Figure size 576x396 with 1 Axes>"
            ]
          },
          "metadata": {
            "tags": []
          }
        }
      ]
    },
    {
      "cell_type": "markdown",
      "metadata": {
        "id": "90vWTA5rH3dk",
        "colab_type": "text"
      },
      "source": [
        "### Fare\n",
        "Fare의 경우 연속적인 Feature이므로 히스토그램을 통해 확인한다."
      ]
    },
    {
      "cell_type": "code",
      "metadata": {
        "id": "Uzjy6ZgnIPSU",
        "colab_type": "code",
        "colab": {
          "base_uri": "https://localhost:8080/",
          "height": 389
        },
        "outputId": "7d90858c-1b95-445c-c36f-54c4ca072e4a"
      },
      "source": [
        "train['Fare'].hist(bins=100)"
      ],
      "execution_count": 180,
      "outputs": [
        {
          "output_type": "execute_result",
          "data": {
            "text/plain": [
              "<matplotlib.axes._subplots.AxesSubplot at 0x7f4c7b736208>"
            ]
          },
          "metadata": {
            "tags": []
          },
          "execution_count": 180
        },
        {
          "output_type": "display_data",
          "data": {
            "image/png": "[encoded data removed]",
            "text/plain": [
              "<Figure size 576x396 with 1 Axes>"
            ]
          },
          "metadata": {
            "tags": []
          }
        }
      ]
    },
    {
      "cell_type": "markdown",
      "metadata": {
        "id": "_JREgsWrI0qJ",
        "colab_type": "text"
      },
      "source": [
        "왼쪽으로 굉장히 치우친 모습이 보인다. standardization이 필요할것 같다."
      ]
    },
    {
      "cell_type": "markdown",
      "metadata": {
        "id": "0ZbZVCKUH3f-",
        "colab_type": "text"
      },
      "source": [
        "### Embarked\n",
        "예측에 큰 영향을 줄 수 없을것 같은 예상이 되지만 살펴본다."
      ]
    },
    {
      "cell_type": "code",
      "metadata": {
        "id": "Hj8NuQBuIxU7",
        "colab_type": "code",
        "colab": {
          "base_uri": "https://localhost:8080/",
          "height": 195
        },
        "outputId": "c6044e87-63eb-49b2-ddc1-72c29508cfae"
      },
      "source": [
        "pd.crosstab(train['Embarked'], train['Survived'], margins=True)"
      ],
      "execution_count": 181,
      "outputs": [
        {
          "output_type": "execute_result",
          "data": {
            "text/html": [
              "<div>\n",
              "<style scoped>\n",
              "    .dataframe tbody tr th:only-of-type {\n",
              "        vertical-align: middle;\n",
              "    }\n",
              "\n",
              "    .dataframe tbody tr th {\n",
              "        vertical-align: top;\n",
              "    }\n",
              "\n",
              "    .dataframe thead th {\n",
              "        text-align: right;\n",
              "    }\n",
              "</style>\n",
              "<table border=\"1\" class=\"dataframe\">\n",
              "  <thead>\n",
              "    <tr style=\"text-align: right;\">\n",
              "      <th>Survived</th>\n",
              "      <th>0</th>\n",
              "      <th>1</th>\n",
              "      <th>All</th>\n",
              "    </tr>\n",
              "    <tr>\n",
              "      <th>Embarked</th>\n",
              "      <th></th>\n",
              "      <th></th>\n",
              "      <th></th>\n",
              "    </tr>\n",
              "  </thead>\n",
              "  <tbody>\n",
              "    <tr>\n",
              "      <th>C</th>\n",
              "      <td>75</td>\n",
              "      <td>93</td>\n",
              "      <td>168</td>\n",
              "    </tr>\n",
              "    <tr>\n",
              "      <th>Q</th>\n",
              "      <td>47</td>\n",
              "      <td>30</td>\n",
              "      <td>77</td>\n",
              "    </tr>\n",
              "    <tr>\n",
              "      <th>S</th>\n",
              "      <td>427</td>\n",
              "      <td>217</td>\n",
              "      <td>644</td>\n",
              "    </tr>\n",
              "    <tr>\n",
              "      <th>All</th>\n",
              "      <td>549</td>\n",
              "      <td>340</td>\n",
              "      <td>889</td>\n",
              "    </tr>\n",
              "  </tbody>\n",
              "</table>\n",
              "</div>"
            ],
            "text/plain": [
              "Survived    0    1  All\n",
              "Embarked               \n",
              "C          75   93  168\n",
              "Q          47   30   77\n",
              "S         427  217  644\n",
              "All       549  340  889"
            ]
          },
          "metadata": {
            "tags": []
          },
          "execution_count": 181
        }
      ]
    },
    {
      "cell_type": "markdown",
      "metadata": {
        "id": "QJ8Fe1YsWI6N",
        "colab_type": "text"
      },
      "source": [
        "이 데이터는 string데이터 이므로 인코딩을 통해 숫자로 바꾸어줄 예정이다."
      ]
    },
    {
      "cell_type": "markdown",
      "metadata": {
        "id": "RZT1h7GhKNgi",
        "colab_type": "text"
      },
      "source": [
        "### Plot하지 않은 Feature 들\n"
      ]
    },
    {
      "cell_type": "markdown",
      "metadata": {
        "id": "JWAQjSBBLKJv",
        "colab_type": "text"
      },
      "source": [
        "#### Name\n",
        "말 그대로 이름이 적힌 Feature이다. string이라 모델에 입력도 안되고 이름과 생존은 큰 연관관계가 없을 것이라 판단하여 다루지 않았다.\n"
      ]
    },
    {
      "cell_type": "markdown",
      "metadata": {
        "id": "UUFufVinLKSD",
        "colab_type": "text"
      },
      "source": [
        "\n",
        "#### Ticket\n",
        "Ticket은 보통 특정한 규칙을 가지고 그 식별번호가 정해진다. 이를 활용하여 Feature를 잘 추출하면 이용할 수 있을 것 같지만, 공개된 규칙이 없고 데이터 마이닝을 통해 규칙을 찾아 내기 위한 아이디어 또한 없어 우선 다루지 않았다.\n"
      ]
    },
    {
      "cell_type": "markdown",
      "metadata": {
        "id": "ztRMPtgZLKWk",
        "colab_type": "text"
      },
      "source": [
        "\n",
        "#### Cabin\n",
        "Value가 NaN인 값들이 너무 많아 이후 전처리 과정에서 drop할 예정이라 다루지 않았다."
      ]
    },
    {
      "cell_type": "markdown",
      "metadata": {
        "id": "Df6Zi1HW1BzV",
        "colab_type": "text"
      },
      "source": [
        "# 3. 데이터 전처리 하기\n"
      ]
    },
    {
      "cell_type": "code",
      "metadata": {
        "id": "zmOrAB4S5zEg",
        "colab_type": "code",
        "colab": {}
      },
      "source": [
        "# train = pd.read_csv('/content/drive/My Drive/ML/train.csv')\n",
        "# test = pd.read_csv('/content/drive/My Drive/ML/test.csv')"
      ],
      "execution_count": 182,
      "outputs": []
    },
    {
      "cell_type": "markdown",
      "metadata": {
        "id": "wptQaaWG0dfj",
        "colab_type": "text"
      },
      "source": [
        "## 3-1 Missing Value 처리하기 "
      ]
    },
    {
      "cell_type": "markdown",
      "metadata": {
        "id": "afKt2Ax1vn0B",
        "colab_type": "text"
      },
      "source": [
        "#### Column 삭제하기\n",
        "Cabin column의 경우 너무 많은 missing Value가 존재하므로 행 전체를 삭제한다.\n",
        ".  \n",
        "<삭제 전>"
      ]
    },
    {
      "cell_type": "code",
      "metadata": {
        "id": "wEyH7jRs1k4v",
        "colab_type": "code",
        "colab": {
          "base_uri": "https://localhost:8080/",
          "height": 122
        },
        "outputId": "38982352-9d14-48eb-8ed1-960c32d92fb6"
      },
      "source": [
        "import numpy as np\n",
        "print(train.columns)\n",
        "print(test.columns)"
      ],
      "execution_count": 183,
      "outputs": [
        {
          "output_type": "stream",
          "text": [
            "Index(['PassengerId', 'Survived', 'Pclass', 'Name', 'Sex', 'Age', 'SibSp',\n",
            "       'Parch', 'Ticket', 'Fare', 'Cabin', 'Embarked'],\n",
            "      dtype='object')\n",
            "Index(['PassengerId', 'Pclass', 'Name', 'Sex', 'Age', 'SibSp', 'Parch',\n",
            "       'Ticket', 'Fare', 'Cabin', 'Embarked'],\n",
            "      dtype='object')\n"
          ],
          "name": "stdout"
        }
      ]
    },
    {
      "cell_type": "markdown",
      "metadata": {
        "id": "-y_wySBZY9bZ",
        "colab_type": "text"
      },
      "source": [
        "<삭제 후> 'Cabin'이 출력되지 않는 것을 볼 수 잇다."
      ]
    },
    {
      "cell_type": "code",
      "metadata": {
        "id": "Deely_SQTxvK",
        "colab_type": "code",
        "colab": {
          "base_uri": "https://localhost:8080/",
          "height": 122
        },
        "outputId": "b057f259-a829-48fa-8707-7f4a6fa61c57"
      },
      "source": [
        "train.drop('Cabin', axis=1,inplace=True)\n",
        "test.drop('Cabin', axis=1,inplace=True)\n",
        "print(train.columns)\n",
        "print(test.columns)"
      ],
      "execution_count": 184,
      "outputs": [
        {
          "output_type": "stream",
          "text": [
            "Index(['PassengerId', 'Survived', 'Pclass', 'Name', 'Sex', 'Age', 'SibSp',\n",
            "       'Parch', 'Ticket', 'Fare', 'Embarked'],\n",
            "      dtype='object')\n",
            "Index(['PassengerId', 'Pclass', 'Name', 'Sex', 'Age', 'SibSp', 'Parch',\n",
            "       'Ticket', 'Fare', 'Embarked'],\n",
            "      dtype='object')\n"
          ],
          "name": "stdout"
        }
      ]
    },
    {
      "cell_type": "markdown",
      "metadata": {
        "id": "M4rY4hm_apAo",
        "colab_type": "text"
      },
      "source": [
        "Name,Ticket은 string 열이지만 따로 처리하지 않을 것이므로 학습에 이용하지 못한다. 따라서 삭제한다."
      ]
    },
    {
      "cell_type": "code",
      "metadata": {
        "id": "oY5_fOfcazWF",
        "colab_type": "code",
        "colab": {
          "base_uri": "https://localhost:8080/",
          "height": 122
        },
        "outputId": "832646a9-e819-43a8-851e-313913f9b7a4"
      },
      "source": [
        "train.drop('Name', axis=1,inplace=True)\n",
        "test.drop('Name', axis=1,inplace=True)\n",
        "train.drop('Ticket', axis=1,inplace=True)\n",
        "test.drop('Ticket', axis=1,inplace=True)\n",
        "print(train.columns)\n",
        "print(test.columns)"
      ],
      "execution_count": 185,
      "outputs": [
        {
          "output_type": "stream",
          "text": [
            "Index(['PassengerId', 'Survived', 'Pclass', 'Sex', 'Age', 'SibSp', 'Parch',\n",
            "       'Fare', 'Embarked'],\n",
            "      dtype='object')\n",
            "Index(['PassengerId', 'Pclass', 'Sex', 'Age', 'SibSp', 'Parch', 'Fare',\n",
            "       'Embarked'],\n",
            "      dtype='object')\n"
          ],
          "name": "stdout"
        }
      ]
    },
    {
      "cell_type": "markdown",
      "metadata": {
        "id": "ffkeiDFovyQ_",
        "colab_type": "text"
      },
      "source": [
        "#### row 삭제하기\n",
        "train set의 Embarked 에서 값이 존재하지 않는 경우가 있는데 이는 해당 데이터가 없는 row를 제거하여 해결하도록 한다"
      ]
    },
    {
      "cell_type": "code",
      "metadata": {
        "id": "Xtn5hTCpwHIi",
        "colab_type": "code",
        "colab": {
          "base_uri": "https://localhost:8080/",
          "height": 193
        },
        "outputId": "4eea6ba7-b2ec-4c4a-a70d-9761fbe1e951"
      },
      "source": [
        "import numpy as np\n",
        "train.dropna(subset=['Embarked'],inplace=True)\n",
        "train.isnull().sum()"
      ],
      "execution_count": 186,
      "outputs": [
        {
          "output_type": "execute_result",
          "data": {
            "text/plain": [
              "PassengerId      0\n",
              "Survived         0\n",
              "Pclass           0\n",
              "Sex              0\n",
              "Age            177\n",
              "SibSp            0\n",
              "Parch            0\n",
              "Fare             0\n",
              "Embarked         0\n",
              "dtype: int64"
            ]
          },
          "metadata": {
            "tags": []
          },
          "execution_count": 186
        }
      ]
    },
    {
      "cell_type": "markdown",
      "metadata": {
        "id": "-DjKRajYwIFJ",
        "colab_type": "text"
      },
      "source": [
        "#### 값 Input 하기\n",
        "Age의 경우 많은 값이 비긴 하지만 inputer를 이용하여 비어있는 값을 채우면 학습에 이용할 수 있을것으로 판단되어 missing value를 채우도록 한다.  \n",
        "\n",
        ".  \n",
        "비어있는 값은 median으로 채우고자 한다."
      ]
    },
    {
      "cell_type": "code",
      "metadata": {
        "id": "9oGzzaInw4jT",
        "colab_type": "code",
        "colab": {
          "base_uri": "https://localhost:8080/",
          "height": 193
        },
        "outputId": "b618d8ae-a1cb-463d-e1d8-75bbdeb4de5c"
      },
      "source": [
        "train_Age_median = train['Age'].median()\n",
        "train['Age'].fillna(train_Age_median, inplace = True)\n",
        "train.isnull().sum()"
      ],
      "execution_count": 187,
      "outputs": [
        {
          "output_type": "execute_result",
          "data": {
            "text/plain": [
              "PassengerId    0\n",
              "Survived       0\n",
              "Pclass         0\n",
              "Sex            0\n",
              "Age            0\n",
              "SibSp          0\n",
              "Parch          0\n",
              "Fare           0\n",
              "Embarked       0\n",
              "dtype: int64"
            ]
          },
          "metadata": {
            "tags": []
          },
          "execution_count": 187
        }
      ]
    },
    {
      "cell_type": "code",
      "metadata": {
        "id": "XExPT0N24qWf",
        "colab_type": "code",
        "colab": {
          "base_uri": "https://localhost:8080/",
          "height": 175
        },
        "outputId": "39a1d051-0806-4c15-86bc-7627376460f6"
      },
      "source": [
        "test_Age_median = test['Age'].median()\n",
        "test['Age'].fillna(test_Age_median, inplace = True)\n",
        "test.isnull().sum()"
      ],
      "execution_count": 188,
      "outputs": [
        {
          "output_type": "execute_result",
          "data": {
            "text/plain": [
              "PassengerId    0\n",
              "Pclass         0\n",
              "Sex            0\n",
              "Age            0\n",
              "SibSp          0\n",
              "Parch          0\n",
              "Fare           1\n",
              "Embarked       0\n",
              "dtype: int64"
            ]
          },
          "metadata": {
            "tags": []
          },
          "execution_count": 188
        }
      ]
    },
    {
      "cell_type": "code",
      "metadata": {
        "id": "wgA7S0h_b6w7",
        "colab_type": "code",
        "colab": {
          "base_uri": "https://localhost:8080/",
          "height": 175
        },
        "outputId": "d940b0c3-f826-4882-b5ec-7fb709845597"
      },
      "source": [
        "test_Fare_median = test['Fare'].median()\n",
        "test['Fare'].fillna(test_Fare_median, inplace = True)\n",
        "test.isnull().sum()"
      ],
      "execution_count": 189,
      "outputs": [
        {
          "output_type": "execute_result",
          "data": {
            "text/plain": [
              "PassengerId    0\n",
              "Pclass         0\n",
              "Sex            0\n",
              "Age            0\n",
              "SibSp          0\n",
              "Parch          0\n",
              "Fare           0\n",
              "Embarked       0\n",
              "dtype: int64"
            ]
          },
          "metadata": {
            "tags": []
          },
          "execution_count": 189
        }
      ]
    },
    {
      "cell_type": "markdown",
      "metadata": {
        "id": "PKR2LnxI1jLA",
        "colab_type": "text"
      },
      "source": [
        "## 3-2 인코딩 하기\n",
        "위에서 데이터를 확인한 결과, Value가 string으로 이루어진 데이터들이 있다. 따라서 이를 카테고리로 만드는 작업이 필요하다.  \n",
        "ex) Sex, Embarked"
      ]
    },
    {
      "cell_type": "code",
      "metadata": {
        "id": "syn7nVMTJ_XH",
        "colab_type": "code",
        "colab": {}
      },
      "source": [
        "from sklearn.preprocessing import LabelEncoder\n",
        "\n",
        "encoder = LabelEncoder()"
      ],
      "execution_count": 192,
      "outputs": []
    },
    {
      "cell_type": "markdown",
      "metadata": {
        "id": "qHP8e97nT3Ld",
        "colab_type": "text"
      },
      "source": [
        "#### \"Sex\" Encoding\n",
        "'Sex' Column을 \n",
        "Male = 1, Female = 0로 encoding한다.\n",
        "\n",
        "*   Male = 1\n",
        "*   Female = 0\n",
        "\n"
      ]
    },
    {
      "cell_type": "code",
      "metadata": {
        "id": "1ewmPJkwtnUU",
        "colab_type": "code",
        "colab": {}
      },
      "source": [
        "result = encoder.fit_transform(train['Sex'])\n",
        "train['Sex']=result"
      ],
      "execution_count": 193,
      "outputs": []
    },
    {
      "cell_type": "code",
      "metadata": {
        "id": "mb2jOA2vuykq",
        "colab_type": "code",
        "colab": {
          "base_uri": "https://localhost:8080/",
          "height": 34
        },
        "outputId": "3a2dc0ac-c208-4b4e-b1f8-d227ee4cddf1"
      },
      "source": [
        "encoder.classes_"
      ],
      "execution_count": 194,
      "outputs": [
        {
          "output_type": "execute_result",
          "data": {
            "text/plain": [
              "array(['female', 'male'], dtype=object)"
            ]
          },
          "metadata": {
            "tags": []
          },
          "execution_count": 194
        }
      ]
    },
    {
      "cell_type": "code",
      "metadata": {
        "id": "-o1HXGDWuAOm",
        "colab_type": "code",
        "colab": {
          "base_uri": "https://localhost:8080/",
          "height": 195
        },
        "outputId": "c04b5872-841c-427f-c372-67765d556c48"
      },
      "source": [
        "train.head()"
      ],
      "execution_count": 195,
      "outputs": [
        {
          "output_type": "execute_result",
          "data": {
            "text/html": [
              "<div>\n",
              "<style scoped>\n",
              "    .dataframe tbody tr th:only-of-type {\n",
              "        vertical-align: middle;\n",
              "    }\n",
              "\n",
              "    .dataframe tbody tr th {\n",
              "        vertical-align: top;\n",
              "    }\n",
              "\n",
              "    .dataframe thead th {\n",
              "        text-align: right;\n",
              "    }\n",
              "</style>\n",
              "<table border=\"1\" class=\"dataframe\">\n",
              "  <thead>\n",
              "    <tr style=\"text-align: right;\">\n",
              "      <th></th>\n",
              "      <th>PassengerId</th>\n",
              "      <th>Survived</th>\n",
              "      <th>Pclass</th>\n",
              "      <th>Sex</th>\n",
              "      <th>Age</th>\n",
              "      <th>SibSp</th>\n",
              "      <th>Parch</th>\n",
              "      <th>Fare</th>\n",
              "      <th>Embarked</th>\n",
              "    </tr>\n",
              "  </thead>\n",
              "  <tbody>\n",
              "    <tr>\n",
              "      <th>0</th>\n",
              "      <td>1</td>\n",
              "      <td>0</td>\n",
              "      <td>3</td>\n",
              "      <td>1</td>\n",
              "      <td>22.0</td>\n",
              "      <td>1</td>\n",
              "      <td>0</td>\n",
              "      <td>7.2500</td>\n",
              "      <td>S</td>\n",
              "    </tr>\n",
              "    <tr>\n",
              "      <th>1</th>\n",
              "      <td>2</td>\n",
              "      <td>1</td>\n",
              "      <td>1</td>\n",
              "      <td>0</td>\n",
              "      <td>38.0</td>\n",
              "      <td>1</td>\n",
              "      <td>0</td>\n",
              "      <td>71.2833</td>\n",
              "      <td>C</td>\n",
              "    </tr>\n",
              "    <tr>\n",
              "      <th>2</th>\n",
              "      <td>3</td>\n",
              "      <td>1</td>\n",
              "      <td>3</td>\n",
              "      <td>0</td>\n",
              "      <td>26.0</td>\n",
              "      <td>0</td>\n",
              "      <td>0</td>\n",
              "      <td>7.9250</td>\n",
              "      <td>S</td>\n",
              "    </tr>\n",
              "    <tr>\n",
              "      <th>3</th>\n",
              "      <td>4</td>\n",
              "      <td>1</td>\n",
              "      <td>1</td>\n",
              "      <td>0</td>\n",
              "      <td>35.0</td>\n",
              "      <td>1</td>\n",
              "      <td>0</td>\n",
              "      <td>53.1000</td>\n",
              "      <td>S</td>\n",
              "    </tr>\n",
              "    <tr>\n",
              "      <th>4</th>\n",
              "      <td>5</td>\n",
              "      <td>0</td>\n",
              "      <td>3</td>\n",
              "      <td>1</td>\n",
              "      <td>35.0</td>\n",
              "      <td>0</td>\n",
              "      <td>0</td>\n",
              "      <td>8.0500</td>\n",
              "      <td>S</td>\n",
              "    </tr>\n",
              "  </tbody>\n",
              "</table>\n",
              "</div>"
            ],
            "text/plain": [
              "   PassengerId  Survived  Pclass  Sex   Age  SibSp  Parch     Fare Embarked\n",
              "0            1         0       3    1  22.0      1      0   7.2500        S\n",
              "1            2         1       1    0  38.0      1      0  71.2833        C\n",
              "2            3         1       3    0  26.0      0      0   7.9250        S\n",
              "3            4         1       1    0  35.0      1      0  53.1000        S\n",
              "4            5         0       3    1  35.0      0      0   8.0500        S"
            ]
          },
          "metadata": {
            "tags": []
          },
          "execution_count": 195
        }
      ]
    },
    {
      "cell_type": "markdown",
      "metadata": {
        "id": "E_HzqODFgyDA",
        "colab_type": "text"
      },
      "source": [
        "0과 1로 인코딩 된 것을 확인할 수 있다.\n",
        "\n",
        "\n",
        "*   female = 0\n",
        "*   male = 1\n",
        "\n"
      ]
    },
    {
      "cell_type": "code",
      "metadata": {
        "id": "MK3AVMb9BWJn",
        "colab_type": "code",
        "colab": {}
      },
      "source": [
        "result = encoder.fit_transform(test['Sex'])\n",
        "test['Sex']=result"
      ],
      "execution_count": 196,
      "outputs": []
    },
    {
      "cell_type": "markdown",
      "metadata": {
        "id": "IBXexxFdpp9f",
        "colab_type": "text"
      },
      "source": [
        "#### \"Embarked\" Encoding\n",
        "'Embarked' Column을 \n",
        "S = 2, C = 0, Q = 1로 encoding한다.\n",
        "\n",
        "*  C = 0\n",
        "*  Q = 1\n",
        "*  S = 2"
      ]
    },
    {
      "cell_type": "code",
      "metadata": {
        "id": "xaJT1dsJLdrQ",
        "colab_type": "code",
        "colab": {}
      },
      "source": [
        "result = encoder.fit_transform(train['Embarked'])\n",
        "train['Embarked']=result"
      ],
      "execution_count": 197,
      "outputs": []
    },
    {
      "cell_type": "code",
      "metadata": {
        "id": "q-WR9K1GBLic",
        "colab_type": "code",
        "colab": {}
      },
      "source": [
        "result = encoder.fit_transform(test['Embarked'])\n",
        "test['Embarked']=result"
      ],
      "execution_count": 198,
      "outputs": []
    },
    {
      "cell_type": "code",
      "metadata": {
        "id": "l3_7gnjOBjn-",
        "colab_type": "code",
        "colab": {
          "base_uri": "https://localhost:8080/",
          "height": 195
        },
        "outputId": "2156db9f-ddb1-4550-8586-dd7be2ae47d9"
      },
      "source": [
        "train.head()"
      ],
      "execution_count": 199,
      "outputs": [
        {
          "output_type": "execute_result",
          "data": {
            "text/html": [
              "<div>\n",
              "<style scoped>\n",
              "    .dataframe tbody tr th:only-of-type {\n",
              "        vertical-align: middle;\n",
              "    }\n",
              "\n",
              "    .dataframe tbody tr th {\n",
              "        vertical-align: top;\n",
              "    }\n",
              "\n",
              "    .dataframe thead th {\n",
              "        text-align: right;\n",
              "    }\n",
              "</style>\n",
              "<table border=\"1\" class=\"dataframe\">\n",
              "  <thead>\n",
              "    <tr style=\"text-align: right;\">\n",
              "      <th></th>\n",
              "      <th>PassengerId</th>\n",
              "      <th>Survived</th>\n",
              "      <th>Pclass</th>\n",
              "      <th>Sex</th>\n",
              "      <th>Age</th>\n",
              "      <th>SibSp</th>\n",
              "      <th>Parch</th>\n",
              "      <th>Fare</th>\n",
              "      <th>Embarked</th>\n",
              "    </tr>\n",
              "  </thead>\n",
              "  <tbody>\n",
              "    <tr>\n",
              "      <th>0</th>\n",
              "      <td>1</td>\n",
              "      <td>0</td>\n",
              "      <td>3</td>\n",
              "      <td>1</td>\n",
              "      <td>22.0</td>\n",
              "      <td>1</td>\n",
              "      <td>0</td>\n",
              "      <td>7.2500</td>\n",
              "      <td>2</td>\n",
              "    </tr>\n",
              "    <tr>\n",
              "      <th>1</th>\n",
              "      <td>2</td>\n",
              "      <td>1</td>\n",
              "      <td>1</td>\n",
              "      <td>0</td>\n",
              "      <td>38.0</td>\n",
              "      <td>1</td>\n",
              "      <td>0</td>\n",
              "      <td>71.2833</td>\n",
              "      <td>0</td>\n",
              "    </tr>\n",
              "    <tr>\n",
              "      <th>2</th>\n",
              "      <td>3</td>\n",
              "      <td>1</td>\n",
              "      <td>3</td>\n",
              "      <td>0</td>\n",
              "      <td>26.0</td>\n",
              "      <td>0</td>\n",
              "      <td>0</td>\n",
              "      <td>7.9250</td>\n",
              "      <td>2</td>\n",
              "    </tr>\n",
              "    <tr>\n",
              "      <th>3</th>\n",
              "      <td>4</td>\n",
              "      <td>1</td>\n",
              "      <td>1</td>\n",
              "      <td>0</td>\n",
              "      <td>35.0</td>\n",
              "      <td>1</td>\n",
              "      <td>0</td>\n",
              "      <td>53.1000</td>\n",
              "      <td>2</td>\n",
              "    </tr>\n",
              "    <tr>\n",
              "      <th>4</th>\n",
              "      <td>5</td>\n",
              "      <td>0</td>\n",
              "      <td>3</td>\n",
              "      <td>1</td>\n",
              "      <td>35.0</td>\n",
              "      <td>0</td>\n",
              "      <td>0</td>\n",
              "      <td>8.0500</td>\n",
              "      <td>2</td>\n",
              "    </tr>\n",
              "  </tbody>\n",
              "</table>\n",
              "</div>"
            ],
            "text/plain": [
              "   PassengerId  Survived  Pclass  Sex   Age  SibSp  Parch     Fare  Embarked\n",
              "0            1         0       3    1  22.0      1      0   7.2500         2\n",
              "1            2         1       1    0  38.0      1      0  71.2833         0\n",
              "2            3         1       3    0  26.0      0      0   7.9250         2\n",
              "3            4         1       1    0  35.0      1      0  53.1000         2\n",
              "4            5         0       3    1  35.0      0      0   8.0500         2"
            ]
          },
          "metadata": {
            "tags": []
          },
          "execution_count": 199
        }
      ]
    },
    {
      "cell_type": "markdown",
      "metadata": {
        "id": "ok4VzK_ASyoi",
        "colab_type": "text"
      },
      "source": [
        "## 3-3 Standardization\n",
        "Fare 특성의 표준화를 진행한다."
      ]
    },
    {
      "cell_type": "code",
      "metadata": {
        "id": "dc3nHTzhGLrw",
        "colab_type": "code",
        "colab": {
          "base_uri": "https://localhost:8080/",
          "height": 34
        },
        "outputId": "f3984c73-12d3-4978-95a7-1868443b0e31"
      },
      "source": [
        "np.mean(train['Fare']), np.std(train['Fare'])"
      ],
      "execution_count": 200,
      "outputs": [
        {
          "output_type": "execute_result",
          "data": {
            "text/plain": [
              "(32.09668087739029, 49.669545099689614)"
            ]
          },
          "metadata": {
            "tags": []
          },
          "execution_count": 200
        }
      ]
    },
    {
      "cell_type": "code",
      "metadata": {
        "id": "3hVEMtfmHVqh",
        "colab_type": "code",
        "colab": {
          "base_uri": "https://localhost:8080/",
          "height": 284
        },
        "outputId": "bb6fb139-baac-4d05-9711-bb1948c37cf0"
      },
      "source": [
        "train_fare = np.asanyarray(train['Fare'])\n",
        "X = (train_fare.reshape(-1, 1) )\n",
        "pd.DataFrame(X).describe()"
      ],
      "execution_count": 201,
      "outputs": [
        {
          "output_type": "execute_result",
          "data": {
            "text/html": [
              "<div>\n",
              "<style scoped>\n",
              "    .dataframe tbody tr th:only-of-type {\n",
              "        vertical-align: middle;\n",
              "    }\n",
              "\n",
              "    .dataframe tbody tr th {\n",
              "        vertical-align: top;\n",
              "    }\n",
              "\n",
              "    .dataframe thead th {\n",
              "        text-align: right;\n",
              "    }\n",
              "</style>\n",
              "<table border=\"1\" class=\"dataframe\">\n",
              "  <thead>\n",
              "    <tr style=\"text-align: right;\">\n",
              "      <th></th>\n",
              "      <th>0</th>\n",
              "    </tr>\n",
              "  </thead>\n",
              "  <tbody>\n",
              "    <tr>\n",
              "      <th>count</th>\n",
              "      <td>889.000000</td>\n",
              "    </tr>\n",
              "    <tr>\n",
              "      <th>mean</th>\n",
              "      <td>32.096681</td>\n",
              "    </tr>\n",
              "    <tr>\n",
              "      <th>std</th>\n",
              "      <td>49.697504</td>\n",
              "    </tr>\n",
              "    <tr>\n",
              "      <th>min</th>\n",
              "      <td>0.000000</td>\n",
              "    </tr>\n",
              "    <tr>\n",
              "      <th>25%</th>\n",
              "      <td>7.895800</td>\n",
              "    </tr>\n",
              "    <tr>\n",
              "      <th>50%</th>\n",
              "      <td>14.454200</td>\n",
              "    </tr>\n",
              "    <tr>\n",
              "      <th>75%</th>\n",
              "      <td>31.000000</td>\n",
              "    </tr>\n",
              "    <tr>\n",
              "      <th>max</th>\n",
              "      <td>512.329200</td>\n",
              "    </tr>\n",
              "  </tbody>\n",
              "</table>\n",
              "</div>"
            ],
            "text/plain": [
              "                0\n",
              "count  889.000000\n",
              "mean    32.096681\n",
              "std     49.697504\n",
              "min      0.000000\n",
              "25%      7.895800\n",
              "50%     14.454200\n",
              "75%     31.000000\n",
              "max    512.329200"
            ]
          },
          "metadata": {
            "tags": []
          },
          "execution_count": 201
        }
      ]
    },
    {
      "cell_type": "code",
      "metadata": {
        "id": "PJszm7qzHZY2",
        "colab_type": "code",
        "colab": {
          "base_uri": "https://localhost:8080/",
          "height": 34
        },
        "outputId": "677f4414-f31e-4fbd-b13d-10069f3171fe"
      },
      "source": [
        "from sklearn.preprocessing import StandardScaler\n",
        "\n",
        "scaler = StandardScaler()\n",
        "scaler.fit(X)\n",
        "X_scaled = scaler.transform(X)\n",
        "np.mean(X_scaled), np.std(X_scaled)"
      ],
      "execution_count": 202,
      "outputs": [
        {
          "output_type": "execute_result",
          "data": {
            "text/plain": [
              "(1.3987061727561027e-16, 1.0)"
            ]
          },
          "metadata": {
            "tags": []
          },
          "execution_count": 202
        }
      ]
    },
    {
      "cell_type": "code",
      "metadata": {
        "id": "aUkKwbAoHlL1",
        "colab_type": "code",
        "colab": {
          "base_uri": "https://localhost:8080/",
          "height": 34
        },
        "outputId": "c140e8c2-cd10-4e7e-afd5-d056b95e4650"
      },
      "source": [
        "train['Fare']=X_scaled\n",
        "np.mean(train['Fare']), np.std(train['Fare'])"
      ],
      "execution_count": 203,
      "outputs": [
        {
          "output_type": "execute_result",
          "data": {
            "text/plain": [
              "(1.0921147750671535e-16, 0.999999999999999)"
            ]
          },
          "metadata": {
            "tags": []
          },
          "execution_count": 203
        }
      ]
    },
    {
      "cell_type": "markdown",
      "metadata": {
        "id": "St2wGR6wRtD_",
        "colab_type": "text"
      },
      "source": [
        "test set진행"
      ]
    },
    {
      "cell_type": "code",
      "metadata": {
        "id": "kShWIeN3Q__5",
        "colab_type": "code",
        "colab": {}
      },
      "source": [
        "test_fare = np.asanyarray(test['Fare'])\n",
        "Y = (test_fare.reshape(-1, 1) )\n",
        "\n",
        "scaler = StandardScaler()\n",
        "scaler.fit(Y)\n",
        "Y_scaled = scaler.transform(Y)\n",
        "\n",
        "test['Fare']=Y_scaled\n"
      ],
      "execution_count": 204,
      "outputs": []
    },
    {
      "cell_type": "code",
      "metadata": {
        "id": "LAuzwXKiYFQi",
        "colab_type": "code",
        "colab": {
          "base_uri": "https://localhost:8080/",
          "height": 34
        },
        "outputId": "41a74247-e0c8-480e-e147-bb7eb3770d3c"
      },
      "source": [
        "np.mean(test['Fare']), np.std(test['Fare'])"
      ],
      "execution_count": 205,
      "outputs": [
        {
          "output_type": "execute_result",
          "data": {
            "text/plain": [
              "(8.154030348323518e-17, 0.9999999999999998)"
            ]
          },
          "metadata": {
            "tags": []
          },
          "execution_count": 205
        }
      ]
    },
    {
      "cell_type": "markdown",
      "metadata": {
        "id": "cWjZ-j54SbD6",
        "colab_type": "text"
      },
      "source": [
        "## 3-4 data set split\n",
        "Train data set중 'survived'를 label로 따로 나누어 label과 input 데이터 셋으로 나눈다.\n"
      ]
    },
    {
      "cell_type": "code",
      "metadata": {
        "id": "Z1iZprPbYdwT",
        "colab_type": "code",
        "colab": {}
      },
      "source": [
        "y_train = train['Survived'].values\n",
        "x_train = train.drop(['Survived','PassengerId'], axis=1).values\n",
        "x_test = test.drop('PassengerId', axis=1).values"
      ],
      "execution_count": 206,
      "outputs": []
    },
    {
      "cell_type": "code",
      "metadata": {
        "id": "xT_MjAJ5XaR4",
        "colab_type": "code",
        "colab": {}
      },
      "source": [
        "#from sklearn.model_selection import train_test_split\n",
        "#X_tr, X_vld, y_tr, y_vld = train_test_split(x_train, y_train, test_size=0.3, random_state=822)"
      ],
      "execution_count": 207,
      "outputs": []
    },
    {
      "cell_type": "markdown",
      "metadata": {
        "id": "xt_NLPkeQixl",
        "colab_type": "text"
      },
      "source": [
        "# 4. Modeling\n",
        "이번 챌린지는 classification이므로 SVM등의 다양한 모델을 이용할 수 있다. \n",
        "\n",
        "\n",
        "*   Decision Tree\n",
        "*   SVM\n",
        "*   Ramdom Forest  \n",
        "\n",
        "위의 대표적인 classifier를 이용하여 학습하고 교차검증을 통해 평가해본다.\n",
        "\n"
      ]
    },
    {
      "cell_type": "code",
      "metadata": {
        "id": "Qz4GqjRIS3G-",
        "colab_type": "code",
        "colab": {
          "base_uri": "https://localhost:8080/",
          "height": 298
        },
        "outputId": "7b9246cb-57ea-48cc-89f9-fe223d7f1415"
      },
      "source": [
        "train.info()"
      ],
      "execution_count": 208,
      "outputs": [
        {
          "output_type": "stream",
          "text": [
            "<class 'pandas.core.frame.DataFrame'>\n",
            "Int64Index: 889 entries, 0 to 890\n",
            "Data columns (total 9 columns):\n",
            " #   Column       Non-Null Count  Dtype  \n",
            "---  ------       --------------  -----  \n",
            " 0   PassengerId  889 non-null    int64  \n",
            " 1   Survived     889 non-null    int64  \n",
            " 2   Pclass       889 non-null    int64  \n",
            " 3   Sex          889 non-null    int64  \n",
            " 4   Age          889 non-null    float64\n",
            " 5   SibSp        889 non-null    int64  \n",
            " 6   Parch        889 non-null    int64  \n",
            " 7   Fare         889 non-null    float64\n",
            " 8   Embarked     889 non-null    int64  \n",
            "dtypes: float64(2), int64(7)\n",
            "memory usage: 69.5 KB\n"
          ],
          "name": "stdout"
        }
      ]
    },
    {
      "cell_type": "code",
      "metadata": {
        "id": "mpigMx6uSUYw",
        "colab_type": "code",
        "colab": {}
      },
      "source": [
        "from sklearn.tree import DecisionTreeClassifier\n",
        "from sklearn.ensemble import RandomForestClassifier\n",
        "from sklearn.svm import SVC\n",
        "from sklearn import metrics"
      ],
      "execution_count": 209,
      "outputs": []
    },
    {
      "cell_type": "markdown",
      "metadata": {
        "id": "x06GxhkgaEbn",
        "colab_type": "text"
      },
      "source": [
        "## 4-1 Cross Validation (K-fold)"
      ]
    },
    {
      "cell_type": "code",
      "metadata": {
        "id": "juQZ8i6HVgIV",
        "colab_type": "code",
        "colab": {}
      },
      "source": [
        "from sklearn.model_selection import KFold\n",
        "from sklearn.model_selection import cross_val_score\n",
        "k_fold = KFold(n_splits=10, shuffle=True, random_state=0)"
      ],
      "execution_count": 210,
      "outputs": []
    },
    {
      "cell_type": "markdown",
      "metadata": {
        "id": "t7PkKB4XXWkf",
        "colab_type": "text"
      },
      "source": [
        "## 4-2 Decision Tree"
      ]
    },
    {
      "cell_type": "code",
      "metadata": {
        "id": "u9OKaIqJaKEB",
        "colab_type": "code",
        "colab": {
          "base_uri": "https://localhost:8080/",
          "height": 34
        },
        "outputId": "cc27cff0-8b5d-45e9-ae50-1bd73da0ae4c"
      },
      "source": [
        "decision_clf = DecisionTreeClassifier()\n",
        "decision_clf.fit( x_train, y_train)\n",
        "decision_predict=decision_clf.predict(x_train)\n",
        "decision_error=metrics.accuracy_score(decision_predict, y_train)\n",
        "print(decision_error)"
      ],
      "execution_count": 211,
      "outputs": [
        {
          "output_type": "stream",
          "text": [
            "0.9797525309336333\n"
          ],
          "name": "stdout"
        }
      ]
    },
    {
      "cell_type": "code",
      "metadata": {
        "id": "zWgja57GdX88",
        "colab_type": "code",
        "colab": {
          "base_uri": "https://localhost:8080/",
          "height": 52
        },
        "outputId": "37da6e00-bf05-447a-bea7-2a33a15b7fda"
      },
      "source": [
        "scoring = 'accuracy'\n",
        "decision_score = cross_val_score(decision_clf, x_train, y_train, cv=k_fold, n_jobs=1, scoring=scoring)\n",
        "print(decision_score)"
      ],
      "execution_count": 212,
      "outputs": [
        {
          "output_type": "stream",
          "text": [
            "[0.73033708 0.75280899 0.82022472 0.76404494 0.7752809  0.83146067\n",
            " 0.82022472 0.71910112 0.83146067 0.80681818]\n"
          ],
          "name": "stdout"
        }
      ]
    },
    {
      "cell_type": "code",
      "metadata": {
        "id": "eltgXQrablZY",
        "colab_type": "code",
        "colab": {
          "base_uri": "https://localhost:8080/",
          "height": 34
        },
        "outputId": "cf693c64-9fda-4fe1-e051-6efc11298965"
      },
      "source": [
        "np.mean(decision_score)"
      ],
      "execution_count": 213,
      "outputs": [
        {
          "output_type": "execute_result",
          "data": {
            "text/plain": [
              "0.7851762002042901"
            ]
          },
          "metadata": {
            "tags": []
          },
          "execution_count": 213
        }
      ]
    },
    {
      "cell_type": "markdown",
      "metadata": {
        "id": "QZ0uZawzeI37",
        "colab_type": "text"
      },
      "source": [
        "### Decision Tree 결과\n",
        "\n",
        "\n",
        "*   Training accuracy = 1.0\n",
        "*   cross_val_score(mean)=0.7659729315628192\n",
        "다소 __오버피팅__ 된 것으로 판단된다.\n",
        "\n"
      ]
    },
    {
      "cell_type": "markdown",
      "metadata": {
        "id": "OzBS_TacbexP",
        "colab_type": "text"
      },
      "source": [
        "## 4-3 SVM"
      ]
    },
    {
      "cell_type": "code",
      "metadata": {
        "id": "G7Fvi8LRe2Hi",
        "colab_type": "code",
        "colab": {
          "base_uri": "https://localhost:8080/",
          "height": 34
        },
        "outputId": "713076b2-ff9a-4c22-a98b-3dba22bff3d0"
      },
      "source": [
        "svm_clf = SVC()\n",
        "svm_clf.fit( x_train, y_train)\n",
        "svm_predict=svm_clf.predict(x_train)\n",
        "svm_error=metrics.accuracy_score(svm_predict, y_train)\n",
        "print(svm_error)"
      ],
      "execution_count": 214,
      "outputs": [
        {
          "output_type": "stream",
          "text": [
            "0.6839145106861643\n"
          ],
          "name": "stdout"
        }
      ]
    },
    {
      "cell_type": "code",
      "metadata": {
        "id": "wG2r2ivNe2Mf",
        "colab_type": "code",
        "colab": {
          "base_uri": "https://localhost:8080/",
          "height": 52
        },
        "outputId": "c1254d91-09cf-4815-d971-51ea5942cf3f"
      },
      "source": [
        "scoring = 'accuracy'\n",
        "svm_score = cross_val_score(svm_clf, x_train, y_train, cv=k_fold, n_jobs=1, scoring=scoring)\n",
        "print(svm_score)"
      ],
      "execution_count": 215,
      "outputs": [
        {
          "output_type": "stream",
          "text": [
            "[0.64044944 0.60674157 0.69662921 0.68539326 0.6741573  0.66292135\n",
            " 0.70786517 0.62921348 0.70786517 0.64772727]\n"
          ],
          "name": "stdout"
        }
      ]
    },
    {
      "cell_type": "code",
      "metadata": {
        "id": "Q1rhDCkje2KC",
        "colab_type": "code",
        "colab": {
          "base_uri": "https://localhost:8080/",
          "height": 34
        },
        "outputId": "f7c4b390-ce72-4a36-f167-d7e4b86097aa"
      },
      "source": [
        "np.mean(svm_score)"
      ],
      "execution_count": 216,
      "outputs": [
        {
          "output_type": "execute_result",
          "data": {
            "text/plain": [
              "0.6658963227783452"
            ]
          },
          "metadata": {
            "tags": []
          },
          "execution_count": 216
        }
      ]
    },
    {
      "cell_type": "markdown",
      "metadata": {
        "id": "XqLMh7K4fM9h",
        "colab_type": "text"
      },
      "source": [
        "### SVM 결과\n",
        "\n",
        "\n",
        "*   Training accuracy = 0.6175478065241845\n",
        "*   cross_val_score(mean)=0.6174923391215525 \n",
        "__언더피팅__ 된 것으로 판단된다.\n",
        ".  \n",
        "해당 모델은 성능이 다소 모자르다고 판단하여 탈락시킨다."
      ]
    },
    {
      "cell_type": "markdown",
      "metadata": {
        "id": "KhLdQHA2ewn6",
        "colab_type": "text"
      },
      "source": [
        "## 4-4 Ramdom Forest"
      ]
    },
    {
      "cell_type": "code",
      "metadata": {
        "id": "nexpx3Y-bi0p",
        "colab_type": "code",
        "colab": {
          "base_uri": "https://localhost:8080/",
          "height": 34
        },
        "outputId": "4aba4de1-9f3d-4598-85d3-79c5f8dd8000"
      },
      "source": [
        "Forest_clf = RandomForestClassifier(n_estimators=13)\n",
        "Forest_clf.fit( x_train, y_train)\n",
        "Forest_predict=Forest_clf.predict(x_train)\n",
        "Forest_error=metrics.accuracy_score(Forest_predict, y_train)\n",
        "print(Forest_error)"
      ],
      "execution_count": 217,
      "outputs": [
        {
          "output_type": "stream",
          "text": [
            "0.9730033745781778\n"
          ],
          "name": "stdout"
        }
      ]
    },
    {
      "cell_type": "code",
      "metadata": {
        "id": "KOdFU7Uhfm2O",
        "colab_type": "code",
        "colab": {
          "base_uri": "https://localhost:8080/",
          "height": 52
        },
        "outputId": "d0af63ae-14fe-46a3-de9b-7d5a7aeab1a0"
      },
      "source": [
        "scoring = 'accuracy'\n",
        "Forest_score = cross_val_score(Forest_clf, x_train, y_train, cv=k_fold, n_jobs=1, scoring=scoring)\n",
        "print(Forest_score)"
      ],
      "execution_count": 218,
      "outputs": [
        {
          "output_type": "stream",
          "text": [
            "[0.71910112 0.7752809  0.86516854 0.80898876 0.86516854 0.83146067\n",
            " 0.85393258 0.71910112 0.84269663 0.88636364]\n"
          ],
          "name": "stdout"
        }
      ]
    },
    {
      "cell_type": "code",
      "metadata": {
        "id": "KvcF071HfnCR",
        "colab_type": "code",
        "colab": {
          "base_uri": "https://localhost:8080/",
          "height": 34
        },
        "outputId": "21eb1c07-866a-4b6b-e964-8d55461847d8"
      },
      "source": [
        "np.mean(Forest_score)"
      ],
      "execution_count": 219,
      "outputs": [
        {
          "output_type": "execute_result",
          "data": {
            "text/plain": [
              "0.8167262512768131"
            ]
          },
          "metadata": {
            "tags": []
          },
          "execution_count": 219
        }
      ]
    },
    {
      "cell_type": "markdown",
      "metadata": {
        "id": "SVtaVZwBgbuU",
        "colab_type": "text"
      },
      "source": [
        "### Ramdom Forest 결과\n",
        "\n",
        "\n",
        "*   Training accuracy = 0.9921259842519685\n",
        "*   cross_val_score(mean)=0.8143769152196118  \n",
        "다소 __오버피팅__ 된 것으로 판단된다.\n",
        ".  \n",
        "Random forest가 결국 Decision Tree를 이용하는 것이기는 하나 하이퍼 파라미터 튜닝에서는 Decision tree와 Random forest 모두 튜닝해 성능을 비교한다."
      ]
    },
    {
      "cell_type": "markdown",
      "metadata": {
        "id": "qfngc-g57KJw",
        "colab_type": "text"
      },
      "source": [
        "# 5. 하이퍼 파라미터 튜닝\n",
        "모델의 하이퍼 파라미터를 튜닝하여 보다 강력한 모델을 만들어 보자.  \n",
        "수정해야할 하이퍼 파라미터가 많으므로 단순 grid방식보단 random search를 이용한다.  \n",
        "학습을 여러본 해본 결과 iteration 값이 크다고 무조건 좋은 값이 나오지 않음을 알 수 있었다. 과도한 iteration값은 오히려 계산시간만 늘리고 일정 수준 이상의 정확도를 넘어서는 성능은 보이지 못했다. \n"
      ]
    },
    {
      "cell_type": "code",
      "metadata": {
        "id": "eVsgQpQY-PDT",
        "colab_type": "code",
        "colab": {}
      },
      "source": [
        "from pprint import pprint\n",
        "from sklearn.model_selection import RandomizedSearchCV"
      ],
      "execution_count": 220,
      "outputs": []
    },
    {
      "cell_type": "markdown",
      "metadata": {
        "id": "J5gGGE298K6u",
        "colab_type": "text"
      },
      "source": [
        "## 5-1 Decision Tree\n",
        "Decision Tree의 하이퍼 파라미터를 튜닝한다. 튜닝할 수 있는 파라미터들을 확인한다."
      ]
    },
    {
      "cell_type": "code",
      "metadata": {
        "id": "Z4SZhsyE-naj",
        "colab_type": "code",
        "colab": {
          "base_uri": "https://localhost:8080/",
          "height": 90
        },
        "outputId": "af7c14b8-5255-4e61-f1da-739c534d1ad8"
      },
      "source": [
        "print('Parameters currently in Decision:\\n')\n",
        "pprint(decision_clf.get_params().keys())"
      ],
      "execution_count": 221,
      "outputs": [
        {
          "output_type": "stream",
          "text": [
            "Parameters currently in Decision:\n",
            "\n",
            "dict_keys(['ccp_alpha', 'class_weight', 'criterion', 'max_depth', 'max_features', 'max_leaf_nodes', 'min_impurity_decrease', 'min_impurity_split', 'min_samples_leaf', 'min_samples_split', 'min_weight_fraction_leaf', 'presort', 'random_state', 'splitter'])\n"
          ],
          "name": "stdout"
        }
      ]
    },
    {
      "cell_type": "markdown",
      "metadata": {
        "id": "HQfztD3BI3qn",
        "colab_type": "text"
      },
      "source": [
        "하이퍼 파라미터의 풀을 지정한다."
      ]
    },
    {
      "cell_type": "code",
      "metadata": {
        "id": "IufbPuw5eo2d",
        "colab_type": "code",
        "colab": {
          "base_uri": "https://localhost:8080/",
          "height": 457
        },
        "outputId": "f95e19d5-f0e4-4483-a1d2-ee2f7bd32e88"
      },
      "source": [
        "max_features = ['auto', 'sqrt']\n",
        "max_depth = [int(x) for x in np.linspace(10, 110, num = 20)]\n",
        "max_depth.append(None)\n",
        "max_features =[int(x) for x in range(0,10)]\n",
        "max_leaf_nodes=[int(x) for x in np.linspace(10, 200, num = 20)]\n",
        "min_samples_leaf = [int(x) for x in range(0,10)]\n",
        "splitter = ['best','random']\n",
        "class_weight=['balanced','balanced_subsample',None]\n",
        "\n",
        "random_grid = {'max_features': max_features,\n",
        "               'max_depth': max_depth,\n",
        "               'max_features': max_features,\n",
        "               'min_samples_leaf': min_samples_leaf,\n",
        "               'splitter':splitter,\n",
        "               'class_weight':class_weight}\n",
        "pprint(random_grid)"
      ],
      "execution_count": 222,
      "outputs": [
        {
          "output_type": "stream",
          "text": [
            "{'class_weight': ['balanced', 'balanced_subsample', None],\n",
            " 'max_depth': [10,\n",
            "               15,\n",
            "               20,\n",
            "               25,\n",
            "               31,\n",
            "               36,\n",
            "               41,\n",
            "               46,\n",
            "               52,\n",
            "               57,\n",
            "               62,\n",
            "               67,\n",
            "               73,\n",
            "               78,\n",
            "               83,\n",
            "               88,\n",
            "               94,\n",
            "               99,\n",
            "               104,\n",
            "               110,\n",
            "               None],\n",
            " 'max_features': [0, 1, 2, 3, 4, 5, 6, 7, 8, 9],\n",
            " 'min_samples_leaf': [0, 1, 2, 3, 4, 5, 6, 7, 8, 9],\n",
            " 'splitter': ['best', 'random']}\n"
          ],
          "name": "stdout"
        }
      ]
    },
    {
      "cell_type": "code",
      "metadata": {
        "id": "OiHuCz83epDb",
        "colab_type": "code",
        "colab": {
          "base_uri": "https://localhost:8080/",
          "height": 615
        },
        "outputId": "d2c05533-b374-485f-acf2-42df2145e283"
      },
      "source": [
        "dt_random = RandomizedSearchCV(estimator = decision_clf, param_distributions = random_grid, n_iter = 2000, cv = 10, n_jobs = -1,verbose=1)\n",
        "dt_random.fit(x_train, y_train)"
      ],
      "execution_count": 223,
      "outputs": [
        {
          "output_type": "stream",
          "text": [
            "Fitting 10 folds for each of 2000 candidates, totalling 20000 fits\n"
          ],
          "name": "stdout"
        },
        {
          "output_type": "stream",
          "text": [
            "[Parallel(n_jobs=-1)]: Using backend LokyBackend with 2 concurrent workers.\n",
            "[Parallel(n_jobs=-1)]: Done 1030 tasks      | elapsed:    2.4s\n",
            "[Parallel(n_jobs=-1)]: Done 10630 tasks      | elapsed:   15.2s\n",
            "[Parallel(n_jobs=-1)]: Done 20000 out of 20000 | elapsed:   27.3s finished\n"
          ],
          "name": "stderr"
        },
        {
          "output_type": "execute_result",
          "data": {
            "text/plain": [
              "RandomizedSearchCV(cv=10, error_score=nan,\n",
              "                   estimator=DecisionTreeClassifier(ccp_alpha=0.0,\n",
              "                                                    class_weight=None,\n",
              "                                                    criterion='gini',\n",
              "                                                    max_depth=None,\n",
              "                                                    max_features=None,\n",
              "                                                    max_leaf_nodes=None,\n",
              "                                                    min_impurity_decrease=0.0,\n",
              "                                                    min_impurity_split=None,\n",
              "                                                    min_samples_leaf=1,\n",
              "                                                    min_samples_split=2,\n",
              "                                                    min_weight_fraction_leaf=0.0,\n",
              "                                                    presort='deprecated',\n",
              "                                                    random_state=None,\n",
              "                                                    splitter='best'),...\n",
              "                   param_distributions={'class_weight': ['balanced',\n",
              "                                                         'balanced_subsample',\n",
              "                                                         None],\n",
              "                                        'max_depth': [10, 15, 20, 25, 31, 36,\n",
              "                                                      41, 46, 52, 57, 62, 67,\n",
              "                                                      73, 78, 83, 88, 94, 99,\n",
              "                                                      104, 110, None],\n",
              "                                        'max_features': [0, 1, 2, 3, 4, 5, 6, 7,\n",
              "                                                         8, 9],\n",
              "                                        'min_samples_leaf': [0, 1, 2, 3, 4, 5,\n",
              "                                                             6, 7, 8, 9],\n",
              "                                        'splitter': ['best', 'random']},\n",
              "                   pre_dispatch='2*n_jobs', random_state=None, refit=True,\n",
              "                   return_train_score=False, scoring=None, verbose=1)"
            ]
          },
          "metadata": {
            "tags": []
          },
          "execution_count": 223
        }
      ]
    },
    {
      "cell_type": "markdown",
      "metadata": {
        "id": "iVRIdbwBJCx4",
        "colab_type": "text"
      },
      "source": [
        "최적의 파라미터 값들은 아래와 같다."
      ]
    },
    {
      "cell_type": "code",
      "metadata": {
        "id": "iMsAfnWGkmT7",
        "colab_type": "code",
        "colab": {
          "base_uri": "https://localhost:8080/",
          "height": 122
        },
        "outputId": "c96f16f8-ea68-4e3b-817d-4a49a59a11fe"
      },
      "source": [
        "dt_random.best_estimator_"
      ],
      "execution_count": 224,
      "outputs": [
        {
          "output_type": "execute_result",
          "data": {
            "text/plain": [
              "DecisionTreeClassifier(ccp_alpha=0.0, class_weight=None, criterion='gini',\n",
              "                       max_depth=78, max_features=7, max_leaf_nodes=None,\n",
              "                       min_impurity_decrease=0.0, min_impurity_split=None,\n",
              "                       min_samples_leaf=6, min_samples_split=2,\n",
              "                       min_weight_fraction_leaf=0.0, presort='deprecated',\n",
              "                       random_state=None, splitter='best')"
            ]
          },
          "metadata": {
            "tags": []
          },
          "execution_count": 224
        }
      ]
    },
    {
      "cell_type": "markdown",
      "metadata": {
        "id": "jSynCIE9JGAH",
        "colab_type": "text"
      },
      "source": [
        "기존 cross_val_score(mean)가 0.7659729315628192이였는데 아래 결과 값을 보면 0.8313074565883554으로 성능이 향상되었다.  \n",
        ".  \n",
        "본 출력 점수는 validation score중 가장 높은 값이라는 것 또한 고려해야한다."
      ]
    },
    {
      "cell_type": "code",
      "metadata": {
        "id": "vUN30YAFkqXX",
        "colab_type": "code",
        "colab": {
          "base_uri": "https://localhost:8080/",
          "height": 34
        },
        "outputId": "27a7d7ef-913c-4926-e3d5-9dfb52160d02"
      },
      "source": [
        "dt_random.best_score_"
      ],
      "execution_count": 225,
      "outputs": [
        {
          "output_type": "execute_result",
          "data": {
            "text/plain": [
              "0.8324310520939735"
            ]
          },
          "metadata": {
            "tags": []
          },
          "execution_count": 225
        }
      ]
    },
    {
      "cell_type": "code",
      "metadata": {
        "id": "EcEAZ6AHMKi6",
        "colab_type": "code",
        "colab": {
          "base_uri": "https://localhost:8080/",
          "height": 34
        },
        "outputId": "37d2edcb-f31d-4275-c73b-a9221b629ac4"
      },
      "source": [
        "dt_best_estimator_pred=dt_random.best_estimator_.predict(x_train)\n",
        "dt_best_estimator_error=metrics.accuracy_score(dt_best_estimator_pred, y_train)\n",
        "print(dt_best_estimator_error)"
      ],
      "execution_count": 226,
      "outputs": [
        {
          "output_type": "stream",
          "text": [
            "0.8773903262092239\n"
          ],
          "name": "stdout"
        }
      ]
    },
    {
      "cell_type": "markdown",
      "metadata": {
        "id": "7Oi6kgm7NYrv",
        "colab_type": "text"
      },
      "source": [
        "validation score보다 train의 score가 높긴 하지만 오버피팅이 확실히 줄어들었다."
      ]
    },
    {
      "cell_type": "markdown",
      "metadata": {
        "id": "7DFqKRSeA8CH",
        "colab_type": "text"
      },
      "source": [
        "## 5-2 Random Forest\n",
        "Random Forest의 하이퍼 파라미터를 튜닝한다. 튜닝할 수 있는 파라미터들을 확인한다."
      ]
    },
    {
      "cell_type": "code",
      "metadata": {
        "id": "ZbUSoYK5AJPE",
        "colab_type": "code",
        "colab": {
          "base_uri": "https://localhost:8080/",
          "height": 386
        },
        "outputId": "5af7f3f3-064c-4af9-8568-409ea0fb468a"
      },
      "source": [
        "print('Parameters currently in Random Forest:\\n')\n",
        "pprint(Forest_clf.get_params())"
      ],
      "execution_count": 227,
      "outputs": [
        {
          "output_type": "stream",
          "text": [
            "Parameters currently in Random Forest:\n",
            "\n",
            "{'bootstrap': True,\n",
            " 'ccp_alpha': 0.0,\n",
            " 'class_weight': None,\n",
            " 'criterion': 'gini',\n",
            " 'max_depth': None,\n",
            " 'max_features': 'auto',\n",
            " 'max_leaf_nodes': None,\n",
            " 'max_samples': None,\n",
            " 'min_impurity_decrease': 0.0,\n",
            " 'min_impurity_split': None,\n",
            " 'min_samples_leaf': 1,\n",
            " 'min_samples_split': 2,\n",
            " 'min_weight_fraction_leaf': 0.0,\n",
            " 'n_estimators': 13,\n",
            " 'n_jobs': None,\n",
            " 'oob_score': False,\n",
            " 'random_state': None,\n",
            " 'verbose': 0,\n",
            " 'warm_start': False}\n"
          ],
          "name": "stdout"
        }
      ]
    },
    {
      "cell_type": "markdown",
      "metadata": {
        "id": "UsJMrsq5Jjo7",
        "colab_type": "text"
      },
      "source": [
        "하이퍼 파라미터의 풀을 설정한다."
      ]
    },
    {
      "cell_type": "code",
      "metadata": {
        "id": "67v2UEn641iw",
        "colab_type": "code",
        "colab": {
          "base_uri": "https://localhost:8080/",
          "height": 826
        },
        "outputId": "ca668fa2-ffe0-4d8b-f876-178b2e338574"
      },
      "source": [
        "n_estimators = [int(x) for x in np.linspace(start = 5, stop = 100, num = 20)]\n",
        "max_features = ['auto', 'sqrt']\n",
        "max_depth = [int(x) for x in np.linspace(10, 110, num = 20)]\n",
        "max_depth.append(None)\n",
        "max_features: [int(x) for x in range(0,10)]\n",
        "min_samples_split = [int(x) for x in range(0,10)]\n",
        "min_samples_leaf = [int(x) for x in range(0,10)]\n",
        "bootstrap = [True, False]\n",
        "class_weight=['balanced','balanced_subsample',None]\n",
        "\n",
        "random_grid = {'n_estimators': n_estimators,\n",
        "               'max_features': max_features,\n",
        "               'max_depth': max_depth,\n",
        "               'max_features': max_features,\n",
        "               'min_samples_split': min_samples_split,\n",
        "               'min_samples_leaf': min_samples_leaf,\n",
        "               'bootstrap': bootstrap,\n",
        "               'class_weight':class_weight}\n",
        "pprint(random_grid)"
      ],
      "execution_count": 228,
      "outputs": [
        {
          "output_type": "stream",
          "text": [
            "{'bootstrap': [True, False],\n",
            " 'class_weight': ['balanced', 'balanced_subsample', None],\n",
            " 'max_depth': [10,\n",
            "               15,\n",
            "               20,\n",
            "               25,\n",
            "               31,\n",
            "               36,\n",
            "               41,\n",
            "               46,\n",
            "               52,\n",
            "               57,\n",
            "               62,\n",
            "               67,\n",
            "               73,\n",
            "               78,\n",
            "               83,\n",
            "               88,\n",
            "               94,\n",
            "               99,\n",
            "               104,\n",
            "               110,\n",
            "               None],\n",
            " 'max_features': ['auto', 'sqrt'],\n",
            " 'min_samples_leaf': [0, 1, 2, 3, 4, 5, 6, 7, 8, 9],\n",
            " 'min_samples_split': [0, 1, 2, 3, 4, 5, 6, 7, 8, 9],\n",
            " 'n_estimators': [5,\n",
            "                  10,\n",
            "                  15,\n",
            "                  20,\n",
            "                  25,\n",
            "                  30,\n",
            "                  35,\n",
            "                  40,\n",
            "                  45,\n",
            "                  50,\n",
            "                  55,\n",
            "                  60,\n",
            "                  65,\n",
            "                  70,\n",
            "                  75,\n",
            "                  80,\n",
            "                  85,\n",
            "                  90,\n",
            "                  95,\n",
            "                  100]}\n"
          ],
          "name": "stdout"
        }
      ]
    },
    {
      "cell_type": "code",
      "metadata": {
        "id": "QsCBhCrKB81c",
        "colab_type": "code",
        "colab": {}
      },
      "source": [
        "rf_random = RandomizedSearchCV(estimator = Forest_clf, param_distributions = random_grid, n_iter = 2000, cv = 10, n_jobs = -1,verbose=1)"
      ],
      "execution_count": 229,
      "outputs": []
    },
    {
      "cell_type": "code",
      "metadata": {
        "id": "t63eCKPnCejz",
        "colab_type": "code",
        "colab": {
          "base_uri": "https://localhost:8080/",
          "height": 791
        },
        "outputId": "d4c8e3dd-dc61-45a9-b484-c30d458d712e"
      },
      "source": [
        "rf_random.fit(x_train, y_train)"
      ],
      "execution_count": 230,
      "outputs": [
        {
          "output_type": "stream",
          "text": [
            "[Parallel(n_jobs=-1)]: Using backend LokyBackend with 2 concurrent workers.\n"
          ],
          "name": "stderr"
        },
        {
          "output_type": "stream",
          "text": [
            "Fitting 10 folds for each of 2000 candidates, totalling 20000 fits\n"
          ],
          "name": "stdout"
        },
        {
          "output_type": "stream",
          "text": [
            "[Parallel(n_jobs=-1)]: Done  88 tasks      | elapsed:    6.6s\n",
            "[Parallel(n_jobs=-1)]: Done 648 tasks      | elapsed:   37.9s\n",
            "[Parallel(n_jobs=-1)]: Done 1648 tasks      | elapsed:  1.7min\n",
            "[Parallel(n_jobs=-1)]: Done 3048 tasks      | elapsed:  3.1min\n",
            "[Parallel(n_jobs=-1)]: Done 4848 tasks      | elapsed:  5.0min\n",
            "[Parallel(n_jobs=-1)]: Done 7048 tasks      | elapsed:  7.1min\n",
            "[Parallel(n_jobs=-1)]: Done 9648 tasks      | elapsed:  9.6min\n",
            "[Parallel(n_jobs=-1)]: Done 12648 tasks      | elapsed: 12.5min\n",
            "[Parallel(n_jobs=-1)]: Done 15962 tasks      | elapsed: 15.8min\n",
            "[Parallel(n_jobs=-1)]: Done 19762 tasks      | elapsed: 19.6min\n",
            "[Parallel(n_jobs=-1)]: Done 20000 out of 20000 | elapsed: 19.7min finished\n"
          ],
          "name": "stderr"
        },
        {
          "output_type": "execute_result",
          "data": {
            "text/plain": [
              "RandomizedSearchCV(cv=10, error_score=nan,\n",
              "                   estimator=RandomForestClassifier(bootstrap=True,\n",
              "                                                    ccp_alpha=0.0,\n",
              "                                                    class_weight=None,\n",
              "                                                    criterion='gini',\n",
              "                                                    max_depth=None,\n",
              "                                                    max_features='auto',\n",
              "                                                    max_leaf_nodes=None,\n",
              "                                                    max_samples=None,\n",
              "                                                    min_impurity_decrease=0.0,\n",
              "                                                    min_impurity_split=None,\n",
              "                                                    min_samples_leaf=1,\n",
              "                                                    min_samples_split=2,\n",
              "                                                    min_weight_fraction_leaf=0.0,\n",
              "                                                    n_estimators=13,\n",
              "                                                    n_jobs...\n",
              "                                        'max_depth': [10, 15, 20, 25, 31, 36,\n",
              "                                                      41, 46, 52, 57, 62, 67,\n",
              "                                                      73, 78, 83, 88, 94, 99,\n",
              "                                                      104, 110, None],\n",
              "                                        'max_features': ['auto', 'sqrt'],\n",
              "                                        'min_samples_leaf': [0, 1, 2, 3, 4, 5,\n",
              "                                                             6, 7, 8, 9],\n",
              "                                        'min_samples_split': [0, 1, 2, 3, 4, 5,\n",
              "                                                              6, 7, 8, 9],\n",
              "                                        'n_estimators': [5, 10, 15, 20, 25, 30,\n",
              "                                                         35, 40, 45, 50, 55, 60,\n",
              "                                                         65, 70, 75, 80, 85, 90,\n",
              "                                                         95, 100]},\n",
              "                   pre_dispatch='2*n_jobs', random_state=None, refit=True,\n",
              "                   return_train_score=False, scoring=None, verbose=1)"
            ]
          },
          "metadata": {
            "tags": []
          },
          "execution_count": 230
        }
      ]
    },
    {
      "cell_type": "markdown",
      "metadata": {
        "id": "jwenRsklJrhb",
        "colab_type": "text"
      },
      "source": [
        "아래는 결과값이 가장 높은 하이퍼 파라미터이다."
      ]
    },
    {
      "cell_type": "code",
      "metadata": {
        "id": "cE-dt042R7kv",
        "colab_type": "code",
        "colab": {
          "base_uri": "https://localhost:8080/",
          "height": 158
        },
        "outputId": "1f16bc07-5ace-4829-aa4a-677c3ceb6015"
      },
      "source": [
        "rf_random.best_estimator_"
      ],
      "execution_count": 231,
      "outputs": [
        {
          "output_type": "execute_result",
          "data": {
            "text/plain": [
              "RandomForestClassifier(bootstrap=False, ccp_alpha=0.0, class_weight=None,\n",
              "                       criterion='gini', max_depth=88, max_features='auto',\n",
              "                       max_leaf_nodes=None, max_samples=None,\n",
              "                       min_impurity_decrease=0.0, min_impurity_split=None,\n",
              "                       min_samples_leaf=2, min_samples_split=9,\n",
              "                       min_weight_fraction_leaf=0.0, n_estimators=45,\n",
              "                       n_jobs=None, oob_score=False, random_state=None,\n",
              "                       verbose=0, warm_start=False)"
            ]
          },
          "metadata": {
            "tags": []
          },
          "execution_count": 231
        }
      ]
    },
    {
      "cell_type": "code",
      "metadata": {
        "id": "C6apoFTtSlvN",
        "colab_type": "code",
        "colab": {
          "base_uri": "https://localhost:8080/",
          "height": 34
        },
        "outputId": "5eb417c4-2283-441e-ee36-208ec7fca3e6"
      },
      "source": [
        "rf_random.best_score_"
      ],
      "execution_count": 232,
      "outputs": [
        {
          "output_type": "execute_result",
          "data": {
            "text/plain": [
              "0.841394279877426"
            ]
          },
          "metadata": {
            "tags": []
          },
          "execution_count": 232
        }
      ]
    },
    {
      "cell_type": "markdown",
      "metadata": {
        "id": "b-jhlk6nKx_C",
        "colab_type": "text"
      },
      "source": [
        "기존 cross_val_score(mean)가 0.8143769152196118였던 것에 비해 성능이 상승하기는 했지만 그 정도가 크지는 않다.  \n",
        ".  \n",
        "본 출력 점수는 validation score중 가장 높은 값이라는 것 또한 고려해야한다."
      ]
    },
    {
      "cell_type": "code",
      "metadata": {
        "id": "PyvLpn1yNlrm",
        "colab_type": "code",
        "colab": {
          "base_uri": "https://localhost:8080/",
          "height": 34
        },
        "outputId": "d1b1e09b-525c-4bab-867e-419e83de776b"
      },
      "source": [
        "rf_best_estimator_pred=rf_random.best_estimator_.predict(x_train)\n",
        "rf_best_estimator_error=metrics.accuracy_score(rf_best_estimator_pred, y_train)\n",
        "print(rf_best_estimator_error)"
      ],
      "execution_count": 233,
      "outputs": [
        {
          "output_type": "stream",
          "text": [
            "0.9167604049493814\n"
          ],
          "name": "stdout"
        }
      ]
    },
    {
      "cell_type": "markdown",
      "metadata": {
        "id": "wJrur8MFNszH",
        "colab_type": "text"
      },
      "source": [
        "validation score보다 train의 score가 높긴 하지만 오버피팅도 어느정도 해소되었다."
      ]
    },
    {
      "cell_type": "markdown",
      "metadata": {
        "id": "vlaMCNiKHa3A",
        "colab_type": "text"
      },
      "source": [
        "# 6. 제출하기\n",
        "이제 kaggle에 예측한 답을 올려 성능을 평가해보자\n"
      ]
    },
    {
      "cell_type": "code",
      "metadata": {
        "id": "BQQJ3aGZLou3",
        "colab_type": "code",
        "colab": {}
      },
      "source": [
        "rf_test_pred=rf_random.best_estimator_.predict(x_test)\n",
        "dt_test_pred=dt_random.best_estimator_.predict(x_test)"
      ],
      "execution_count": 234,
      "outputs": []
    },
    {
      "cell_type": "code",
      "metadata": {
        "id": "eYCTEKCLOrqu",
        "colab_type": "code",
        "colab": {
          "base_uri": "https://localhost:8080/",
          "height": 175
        },
        "outputId": "b86e29d1-4122-4c2e-e7b6-c1574d957904"
      },
      "source": [
        "dt_answer = pd.DataFrame({\n",
        "    'PassengerId':test['PassengerId'],\n",
        "    'Survived':dt_test_pred})\n",
        "rf_answer =pd.DataFrame({\n",
        "    'PassengerId':test['PassengerId'],\n",
        "    'Survived':rf_test_pred})\n",
        "rf_answer.info()"
      ],
      "execution_count": 235,
      "outputs": [
        {
          "output_type": "stream",
          "text": [
            "<class 'pandas.core.frame.DataFrame'>\n",
            "RangeIndex: 418 entries, 0 to 417\n",
            "Data columns (total 2 columns):\n",
            " #   Column       Non-Null Count  Dtype\n",
            "---  ------       --------------  -----\n",
            " 0   PassengerId  418 non-null    int64\n",
            " 1   Survived     418 non-null    int64\n",
            "dtypes: int64(2)\n",
            "memory usage: 6.7 KB\n"
          ],
          "name": "stdout"
        }
      ]
    },
    {
      "cell_type": "code",
      "metadata": {
        "id": "cZ1d_PU4Z4zB",
        "colab_type": "code",
        "colab": {
          "base_uri": "https://localhost:8080/",
          "height": 175
        },
        "outputId": "14015626-2fc4-4992-c234-535c0d75ea14"
      },
      "source": [
        "dt_answer.info()"
      ],
      "execution_count": 236,
      "outputs": [
        {
          "output_type": "stream",
          "text": [
            "<class 'pandas.core.frame.DataFrame'>\n",
            "RangeIndex: 418 entries, 0 to 417\n",
            "Data columns (total 2 columns):\n",
            " #   Column       Non-Null Count  Dtype\n",
            "---  ------       --------------  -----\n",
            " 0   PassengerId  418 non-null    int64\n",
            " 1   Survived     418 non-null    int64\n",
            "dtypes: int64(2)\n",
            "memory usage: 6.7 KB\n"
          ],
          "name": "stdout"
        }
      ]
    },
    {
      "cell_type": "code",
      "metadata": {
        "id": "udC-enyHRJdU",
        "colab_type": "code",
        "colab": {}
      },
      "source": [
        "dt_answer.to_csv('/content/drive/My Drive/ML/kaggle_titanic/dt_answer.csv', index=False)\n",
        "rf_answer.to_csv('/content/drive/My Drive/ML/kaggle_titanic/rf_answer.csv', index=False)"
      ],
      "execution_count": 237,
      "outputs": []
    },
    {
      "cell_type": "markdown",
      "metadata": {
        "id": "STbOsNN0iZ5H",
        "colab_type": "text"
      },
      "source": [
        "Decision tree로 예측한 답은 0.74641, Randomforest로 예측한 답은 0.79186의 Score를 받았다. 생각보다 예측률이 낮게 나와서 아쉽다.  "
      ]
    },
    {
      "cell_type": "markdown",
      "metadata": {
        "id": "05wgO8XIiy6T",
        "colab_type": "text"
      },
      "source": [
        "# 7. 프로젝트를 진행하면서 느낀점\n",
        "책에서 모델의 학습보다는 전처리에 더 많은 시간이 걸린다고 했던 것이 기억난다. 실제로도 전처리가 가장 오래걸렸던 것 같다. 또한 함수 몇줄만 이용하면 쉽게 모델을 구성하고 학습 시킬 수 있다는 사실이 놀라웠다.  \n",
        ".  \n",
        "사실 프로젝트를 진행하면서 다른 사람들은 어떻게 했었는지 굉장히 궁금해서 다른 사람들의 튜토리얼을 찾아보았는데, 많은 사람들이 PassengerName에서 Mr,Ms등을 추출해  Age의 Missing Value를 채우는 것을 보았다. 정말 창의적인 방법이라고 생각했다. 단순히 배운 방식만이 아닌 창의성이 들어가고 Feature Engneering을 통한 높은 성과를 얻는 것을 보면서 머신러닝에도 창의성이 필요하다는 것을 느꼈다."
      ]
    }
  ]
}